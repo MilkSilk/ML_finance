{
 "cells": [
  {
   "cell_type": "code",
   "execution_count": 2,
   "metadata": {},
   "outputs": [],
   "source": [
    "import pandas as pd\n",
    "from sklearn.model_selection import train_test_split, cross_val_score\n",
    "from sklearn.dummy import DummyRegressor\n",
    "from sklearn.linear_model import LinearRegression\n",
    "from sklearn.metrics import mean_squared_error, r2_score\n",
    "from matplotlib import pyplot as plt\n",
    "import seaborn as sn\n",
    "import xgboost\n",
    "from xgboost import XGBRegressor\n",
    "from sklearn.model_selection import RepeatedKFold"
   ]
  },
  {
   "cell_type": "code",
   "execution_count": 3,
   "metadata": {},
   "outputs": [
    {
     "data": {
      "text/html": [
       "<div>\n",
       "<style scoped>\n",
       "    .dataframe tbody tr th:only-of-type {\n",
       "        vertical-align: middle;\n",
       "    }\n",
       "\n",
       "    .dataframe tbody tr th {\n",
       "        vertical-align: top;\n",
       "    }\n",
       "\n",
       "    .dataframe thead th {\n",
       "        text-align: right;\n",
       "    }\n",
       "</style>\n",
       "<table border=\"1\" class=\"dataframe\">\n",
       "  <thead>\n",
       "    <tr style=\"text-align: right;\">\n",
       "      <th></th>\n",
       "      <th>date</th>\n",
       "      <th>symbol</th>\n",
       "      <th>econ_branch</th>\n",
       "      <th>score</th>\n",
       "      <th>year</th>\n",
       "      <th>month</th>\n",
       "      <th>day</th>\n",
       "      <th>close</th>\n",
       "      <th>roi_month</th>\n",
       "      <th>roi_quarter</th>\n",
       "      <th>roi_halfyear</th>\n",
       "      <th>roi_year</th>\n",
       "    </tr>\n",
       "  </thead>\n",
       "  <tbody>\n",
       "    <tr>\n",
       "      <th>0</th>\n",
       "      <td>2004-02-11</td>\n",
       "      <td>SU</td>\n",
       "      <td>Energy Minerals</td>\n",
       "      <td>0.953727</td>\n",
       "      <td>2004</td>\n",
       "      <td>2</td>\n",
       "      <td>11</td>\n",
       "      <td>13.285000</td>\n",
       "      <td>0.015807</td>\n",
       "      <td>-0.085058</td>\n",
       "      <td>0.048927</td>\n",
       "      <td>0.406473</td>\n",
       "    </tr>\n",
       "    <tr>\n",
       "      <th>1</th>\n",
       "      <td>2004-02-11</td>\n",
       "      <td>GGG</td>\n",
       "      <td>Producer Manufacturing</td>\n",
       "      <td>0.952753</td>\n",
       "      <td>2004</td>\n",
       "      <td>2</td>\n",
       "      <td>11</td>\n",
       "      <td>9.388889</td>\n",
       "      <td>-0.048047</td>\n",
       "      <td>-0.010888</td>\n",
       "      <td>0.087811</td>\n",
       "      <td>0.348402</td>\n",
       "    </tr>\n",
       "    <tr>\n",
       "      <th>2</th>\n",
       "      <td>2004-02-11</td>\n",
       "      <td>CWT</td>\n",
       "      <td>Utilities</td>\n",
       "      <td>0.934181</td>\n",
       "      <td>2004</td>\n",
       "      <td>2</td>\n",
       "      <td>11</td>\n",
       "      <td>14.720000</td>\n",
       "      <td>-0.002717</td>\n",
       "      <td>-0.068954</td>\n",
       "      <td>-0.070992</td>\n",
       "      <td>0.178668</td>\n",
       "    </tr>\n",
       "    <tr>\n",
       "      <th>3</th>\n",
       "      <td>2004-02-11</td>\n",
       "      <td>BLL</td>\n",
       "      <td>Process Industries</td>\n",
       "      <td>0.922862</td>\n",
       "      <td>2004</td>\n",
       "      <td>2</td>\n",
       "      <td>11</td>\n",
       "      <td>8.095000</td>\n",
       "      <td>0.006640</td>\n",
       "      <td>-0.023935</td>\n",
       "      <td>0.124923</td>\n",
       "      <td>0.361334</td>\n",
       "    </tr>\n",
       "    <tr>\n",
       "      <th>4</th>\n",
       "      <td>2004-02-11</td>\n",
       "      <td>APA</td>\n",
       "      <td>Energy Minerals</td>\n",
       "      <td>0.912117</td>\n",
       "      <td>2004</td>\n",
       "      <td>2</td>\n",
       "      <td>11</td>\n",
       "      <td>39.830002</td>\n",
       "      <td>0.008034</td>\n",
       "      <td>0.025860</td>\n",
       "      <td>0.082350</td>\n",
       "      <td>0.442882</td>\n",
       "    </tr>\n",
       "  </tbody>\n",
       "</table>\n",
       "</div>"
      ],
      "text/plain": [
       "         date symbol             econ_branch     score  year  month  day  \\\n",
       "0  2004-02-11     SU         Energy Minerals  0.953727  2004      2   11   \n",
       "1  2004-02-11    GGG  Producer Manufacturing  0.952753  2004      2   11   \n",
       "2  2004-02-11    CWT               Utilities  0.934181  2004      2   11   \n",
       "3  2004-02-11    BLL      Process Industries  0.922862  2004      2   11   \n",
       "4  2004-02-11    APA         Energy Minerals  0.912117  2004      2   11   \n",
       "\n",
       "       close  roi_month  roi_quarter  roi_halfyear  roi_year  \n",
       "0  13.285000   0.015807    -0.085058      0.048927  0.406473  \n",
       "1   9.388889  -0.048047    -0.010888      0.087811  0.348402  \n",
       "2  14.720000  -0.002717    -0.068954     -0.070992  0.178668  \n",
       "3   8.095000   0.006640    -0.023935      0.124923  0.361334  \n",
       "4  39.830002   0.008034     0.025860      0.082350  0.442882  "
      ]
     },
     "execution_count": 3,
     "metadata": {},
     "output_type": "execute_result"
    }
   ],
   "source": [
    "dataset = pd.read_csv('data/dataset.csv', index_col=0)\n",
    "# dataset = dataset.drop(columns=[\"index_x\", \"index_y\", \"index_x.1\", \"index_y.1\", 'index'])\n",
    "\n",
    "dataset.head()"
   ]
  },
  {
   "cell_type": "code",
   "execution_count": 4,
   "metadata": {},
   "outputs": [
    {
     "data": {
      "text/plain": [
       "<AxesSubplot:>"
      ]
     },
     "execution_count": 4,
     "metadata": {},
     "output_type": "execute_result"
    },
    {
     "data": {
      "image/png": "[encoded data removed]",
      "text/plain": [
       "<Figure size 432x288 with 1 Axes>"
      ]
     },
     "metadata": {
      "needs_background": "light"
     },
     "output_type": "display_data"
    }
   ],
   "source": [
    "dataset.symbol.value_counts().hist()"
   ]
  },
  {
   "cell_type": "markdown",
   "metadata": {},
   "source": [
    "Most of the symbols appear in the dataset only once."
   ]
  },
  {
   "cell_type": "code",
   "execution_count": 5,
   "metadata": {},
   "outputs": [
    {
     "data": {
      "text/plain": [
       "<AxesSubplot:>"
      ]
     },
     "execution_count": 5,
     "metadata": {},
     "output_type": "execute_result"
    },
    {
     "data": {
      "image/png": "[encoded data removed]",
      "text/plain": [
       "<Figure size 864x648 with 3 Axes>"
      ]
     },
     "metadata": {
      "needs_background": "light"
     },
     "output_type": "display_data"
    }
   ],
   "source": [
    "\n",
    "fig, ax = plt.subplots(1,2, figsize=(12, 9), sharey=True, gridspec_kw={'width_ratios': [1, 20]})\n",
    "sn.heatmap(dataset.corr(), annot=True)"
   ]
  },
  {
   "cell_type": "code",
   "execution_count": 10,
   "metadata": {},
   "outputs": [],
   "source": [
    "X = dataset[['score', 'close', 'year', 'econ_branch']]\n",
    "y = dataset.iloc[:, -4:]"
   ]
  },
  {
   "cell_type": "code",
   "execution_count": 11,
   "metadata": {},
   "outputs": [
    {
     "data": {
      "text/html": [
       "<div>\n",
       "<style scoped>\n",
       "    .dataframe tbody tr th:only-of-type {\n",
       "        vertical-align: middle;\n",
       "    }\n",
       "\n",
       "    .dataframe tbody tr th {\n",
       "        vertical-align: top;\n",
       "    }\n",
       "\n",
       "    .dataframe thead th {\n",
       "        text-align: right;\n",
       "    }\n",
       "</style>\n",
       "<table border=\"1\" class=\"dataframe\">\n",
       "  <thead>\n",
       "    <tr style=\"text-align: right;\">\n",
       "      <th></th>\n",
       "      <th>score</th>\n",
       "      <th>close</th>\n",
       "      <th>year</th>\n",
       "      <th>econ_branch_Communications</th>\n",
       "      <th>econ_branch_Consumer Durables</th>\n",
       "      <th>econ_branch_Consumer Non-Durables</th>\n",
       "      <th>econ_branch_Consumer Services</th>\n",
       "      <th>econ_branch_Distribution Services</th>\n",
       "      <th>econ_branch_Electronic Technology</th>\n",
       "      <th>econ_branch_Energy Minerals</th>\n",
       "      <th>...</th>\n",
       "      <th>econ_branch_Health Services</th>\n",
       "      <th>econ_branch_Health Technology</th>\n",
       "      <th>econ_branch_Industrial Services</th>\n",
       "      <th>econ_branch_Non-Energy Minerals</th>\n",
       "      <th>econ_branch_Process Industries</th>\n",
       "      <th>econ_branch_Producer Manufacturing</th>\n",
       "      <th>econ_branch_Retail Trade</th>\n",
       "      <th>econ_branch_Technology Services</th>\n",
       "      <th>econ_branch_Transportation</th>\n",
       "      <th>econ_branch_Utilities</th>\n",
       "    </tr>\n",
       "  </thead>\n",
       "  <tbody>\n",
       "    <tr>\n",
       "      <th>0</th>\n",
       "      <td>0.953727</td>\n",
       "      <td>13.285000</td>\n",
       "      <td>2004</td>\n",
       "      <td>0</td>\n",
       "      <td>0</td>\n",
       "      <td>0</td>\n",
       "      <td>0</td>\n",
       "      <td>0</td>\n",
       "      <td>0</td>\n",
       "      <td>1</td>\n",
       "      <td>...</td>\n",
       "      <td>0</td>\n",
       "      <td>0</td>\n",
       "      <td>0</td>\n",
       "      <td>0</td>\n",
       "      <td>0</td>\n",
       "      <td>0</td>\n",
       "      <td>0</td>\n",
       "      <td>0</td>\n",
       "      <td>0</td>\n",
       "      <td>0</td>\n",
       "    </tr>\n",
       "    <tr>\n",
       "      <th>1</th>\n",
       "      <td>0.952753</td>\n",
       "      <td>9.388889</td>\n",
       "      <td>2004</td>\n",
       "      <td>0</td>\n",
       "      <td>0</td>\n",
       "      <td>0</td>\n",
       "      <td>0</td>\n",
       "      <td>0</td>\n",
       "      <td>0</td>\n",
       "      <td>0</td>\n",
       "      <td>...</td>\n",
       "      <td>0</td>\n",
       "      <td>0</td>\n",
       "      <td>0</td>\n",
       "      <td>0</td>\n",
       "      <td>0</td>\n",
       "      <td>1</td>\n",
       "      <td>0</td>\n",
       "      <td>0</td>\n",
       "      <td>0</td>\n",
       "      <td>0</td>\n",
       "    </tr>\n",
       "    <tr>\n",
       "      <th>2</th>\n",
       "      <td>0.934181</td>\n",
       "      <td>14.720000</td>\n",
       "      <td>2004</td>\n",
       "      <td>0</td>\n",
       "      <td>0</td>\n",
       "      <td>0</td>\n",
       "      <td>0</td>\n",
       "      <td>0</td>\n",
       "      <td>0</td>\n",
       "      <td>0</td>\n",
       "      <td>...</td>\n",
       "      <td>0</td>\n",
       "      <td>0</td>\n",
       "      <td>0</td>\n",
       "      <td>0</td>\n",
       "      <td>0</td>\n",
       "      <td>0</td>\n",
       "      <td>0</td>\n",
       "      <td>0</td>\n",
       "      <td>0</td>\n",
       "      <td>1</td>\n",
       "    </tr>\n",
       "    <tr>\n",
       "      <th>3</th>\n",
       "      <td>0.922862</td>\n",
       "      <td>8.095000</td>\n",
       "      <td>2004</td>\n",
       "      <td>0</td>\n",
       "      <td>0</td>\n",
       "      <td>0</td>\n",
       "      <td>0</td>\n",
       "      <td>0</td>\n",
       "      <td>0</td>\n",
       "      <td>0</td>\n",
       "      <td>...</td>\n",
       "      <td>0</td>\n",
       "      <td>0</td>\n",
       "      <td>0</td>\n",
       "      <td>0</td>\n",
       "      <td>1</td>\n",
       "      <td>0</td>\n",
       "      <td>0</td>\n",
       "      <td>0</td>\n",
       "      <td>0</td>\n",
       "      <td>0</td>\n",
       "    </tr>\n",
       "    <tr>\n",
       "      <th>4</th>\n",
       "      <td>0.912117</td>\n",
       "      <td>39.830002</td>\n",
       "      <td>2004</td>\n",
       "      <td>0</td>\n",
       "      <td>0</td>\n",
       "      <td>0</td>\n",
       "      <td>0</td>\n",
       "      <td>0</td>\n",
       "      <td>0</td>\n",
       "      <td>1</td>\n",
       "      <td>...</td>\n",
       "      <td>0</td>\n",
       "      <td>0</td>\n",
       "      <td>0</td>\n",
       "      <td>0</td>\n",
       "      <td>0</td>\n",
       "      <td>0</td>\n",
       "      <td>0</td>\n",
       "      <td>0</td>\n",
       "      <td>0</td>\n",
       "      <td>0</td>\n",
       "    </tr>\n",
       "    <tr>\n",
       "      <th>...</th>\n",
       "      <td>...</td>\n",
       "      <td>...</td>\n",
       "      <td>...</td>\n",
       "      <td>...</td>\n",
       "      <td>...</td>\n",
       "      <td>...</td>\n",
       "      <td>...</td>\n",
       "      <td>...</td>\n",
       "      <td>...</td>\n",
       "      <td>...</td>\n",
       "      <td>...</td>\n",
       "      <td>...</td>\n",
       "      <td>...</td>\n",
       "      <td>...</td>\n",
       "      <td>...</td>\n",
       "      <td>...</td>\n",
       "      <td>...</td>\n",
       "      <td>...</td>\n",
       "      <td>...</td>\n",
       "      <td>...</td>\n",
       "      <td>...</td>\n",
       "    </tr>\n",
       "    <tr>\n",
       "      <th>10405</th>\n",
       "      <td>0.657795</td>\n",
       "      <td>90.209999</td>\n",
       "      <td>2021</td>\n",
       "      <td>0</td>\n",
       "      <td>0</td>\n",
       "      <td>0</td>\n",
       "      <td>0</td>\n",
       "      <td>0</td>\n",
       "      <td>0</td>\n",
       "      <td>0</td>\n",
       "      <td>...</td>\n",
       "      <td>0</td>\n",
       "      <td>0</td>\n",
       "      <td>0</td>\n",
       "      <td>0</td>\n",
       "      <td>1</td>\n",
       "      <td>0</td>\n",
       "      <td>0</td>\n",
       "      <td>0</td>\n",
       "      <td>0</td>\n",
       "      <td>0</td>\n",
       "    </tr>\n",
       "    <tr>\n",
       "      <th>10406</th>\n",
       "      <td>0.651998</td>\n",
       "      <td>1423.270020</td>\n",
       "      <td>2021</td>\n",
       "      <td>0</td>\n",
       "      <td>0</td>\n",
       "      <td>0</td>\n",
       "      <td>0</td>\n",
       "      <td>0</td>\n",
       "      <td>0</td>\n",
       "      <td>0</td>\n",
       "      <td>...</td>\n",
       "      <td>0</td>\n",
       "      <td>0</td>\n",
       "      <td>0</td>\n",
       "      <td>0</td>\n",
       "      <td>0</td>\n",
       "      <td>0</td>\n",
       "      <td>1</td>\n",
       "      <td>0</td>\n",
       "      <td>0</td>\n",
       "      <td>0</td>\n",
       "    </tr>\n",
       "    <tr>\n",
       "      <th>10407</th>\n",
       "      <td>0.650983</td>\n",
       "      <td>193.690002</td>\n",
       "      <td>2021</td>\n",
       "      <td>0</td>\n",
       "      <td>0</td>\n",
       "      <td>0</td>\n",
       "      <td>0</td>\n",
       "      <td>0</td>\n",
       "      <td>1</td>\n",
       "      <td>0</td>\n",
       "      <td>...</td>\n",
       "      <td>0</td>\n",
       "      <td>0</td>\n",
       "      <td>0</td>\n",
       "      <td>0</td>\n",
       "      <td>0</td>\n",
       "      <td>0</td>\n",
       "      <td>0</td>\n",
       "      <td>0</td>\n",
       "      <td>0</td>\n",
       "      <td>0</td>\n",
       "    </tr>\n",
       "    <tr>\n",
       "      <th>10408</th>\n",
       "      <td>0.646593</td>\n",
       "      <td>53.529999</td>\n",
       "      <td>2021</td>\n",
       "      <td>0</td>\n",
       "      <td>1</td>\n",
       "      <td>0</td>\n",
       "      <td>0</td>\n",
       "      <td>0</td>\n",
       "      <td>0</td>\n",
       "      <td>0</td>\n",
       "      <td>...</td>\n",
       "      <td>0</td>\n",
       "      <td>0</td>\n",
       "      <td>0</td>\n",
       "      <td>0</td>\n",
       "      <td>0</td>\n",
       "      <td>0</td>\n",
       "      <td>0</td>\n",
       "      <td>0</td>\n",
       "      <td>0</td>\n",
       "      <td>0</td>\n",
       "    </tr>\n",
       "    <tr>\n",
       "      <th>10409</th>\n",
       "      <td>0.636897</td>\n",
       "      <td>51.610001</td>\n",
       "      <td>2021</td>\n",
       "      <td>0</td>\n",
       "      <td>0</td>\n",
       "      <td>0</td>\n",
       "      <td>1</td>\n",
       "      <td>0</td>\n",
       "      <td>0</td>\n",
       "      <td>0</td>\n",
       "      <td>...</td>\n",
       "      <td>0</td>\n",
       "      <td>0</td>\n",
       "      <td>0</td>\n",
       "      <td>0</td>\n",
       "      <td>0</td>\n",
       "      <td>0</td>\n",
       "      <td>0</td>\n",
       "      <td>0</td>\n",
       "      <td>0</td>\n",
       "      <td>0</td>\n",
       "    </tr>\n",
       "  </tbody>\n",
       "</table>\n",
       "<p>10410 rows × 21 columns</p>\n",
       "</div>"
      ],
      "text/plain": [
       "          score        close  year  econ_branch_Communications  \\\n",
       "0      0.953727    13.285000  2004                           0   \n",
       "1      0.952753     9.388889  2004                           0   \n",
       "2      0.934181    14.720000  2004                           0   \n",
       "3      0.922862     8.095000  2004                           0   \n",
       "4      0.912117    39.830002  2004                           0   \n",
       "...         ...          ...   ...                         ...   \n",
       "10405  0.657795    90.209999  2021                           0   \n",
       "10406  0.651998  1423.270020  2021                           0   \n",
       "10407  0.650983   193.690002  2021                           0   \n",
       "10408  0.646593    53.529999  2021                           0   \n",
       "10409  0.636897    51.610001  2021                           0   \n",
       "\n",
       "       econ_branch_Consumer Durables  econ_branch_Consumer Non-Durables  \\\n",
       "0                                  0                                  0   \n",
       "1                                  0                                  0   \n",
       "2                                  0                                  0   \n",
       "3                                  0                                  0   \n",
       "4                                  0                                  0   \n",
       "...                              ...                                ...   \n",
       "10405                              0                                  0   \n",
       "10406                              0                                  0   \n",
       "10407                              0                                  0   \n",
       "10408                              1                                  0   \n",
       "10409                              0                                  0   \n",
       "\n",
       "       econ_branch_Consumer Services  econ_branch_Distribution Services  \\\n",
       "0                                  0                                  0   \n",
       "1                                  0                                  0   \n",
       "2                                  0                                  0   \n",
       "3                                  0                                  0   \n",
       "4                                  0                                  0   \n",
       "...                              ...                                ...   \n",
       "10405                              0                                  0   \n",
       "10406                              0                                  0   \n",
       "10407                              0                                  0   \n",
       "10408                              0                                  0   \n",
       "10409                              1                                  0   \n",
       "\n",
       "       econ_branch_Electronic Technology  econ_branch_Energy Minerals  ...  \\\n",
       "0                                      0                            1  ...   \n",
       "1                                      0                            0  ...   \n",
       "2                                      0                            0  ...   \n",
       "3                                      0                            0  ...   \n",
       "4                                      0                            1  ...   \n",
       "...                                  ...                          ...  ...   \n",
       "10405                                  0                            0  ...   \n",
       "10406                                  0                            0  ...   \n",
       "10407                                  1                            0  ...   \n",
       "10408                                  0                            0  ...   \n",
       "10409                                  0                            0  ...   \n",
       "\n",
       "       econ_branch_Health Services  econ_branch_Health Technology  \\\n",
       "0                                0                              0   \n",
       "1                                0                              0   \n",
       "2                                0                              0   \n",
       "3                                0                              0   \n",
       "4                                0                              0   \n",
       "...                            ...                            ...   \n",
       "10405                            0                              0   \n",
       "10406                            0                              0   \n",
       "10407                            0                              0   \n",
       "10408                            0                              0   \n",
       "10409                            0                              0   \n",
       "\n",
       "       econ_branch_Industrial Services  econ_branch_Non-Energy Minerals  \\\n",
       "0                                    0                                0   \n",
       "1                                    0                                0   \n",
       "2                                    0                                0   \n",
       "3                                    0                                0   \n",
       "4                                    0                                0   \n",
       "...                                ...                              ...   \n",
       "10405                                0                                0   \n",
       "10406                                0                                0   \n",
       "10407                                0                                0   \n",
       "10408                                0                                0   \n",
       "10409                                0                                0   \n",
       "\n",
       "       econ_branch_Process Industries  econ_branch_Producer Manufacturing  \\\n",
       "0                                   0                                   0   \n",
       "1                                   0                                   1   \n",
       "2                                   0                                   0   \n",
       "3                                   1                                   0   \n",
       "4                                   0                                   0   \n",
       "...                               ...                                 ...   \n",
       "10405                               1                                   0   \n",
       "10406                               0                                   0   \n",
       "10407                               0                                   0   \n",
       "10408                               0                                   0   \n",
       "10409                               0                                   0   \n",
       "\n",
       "       econ_branch_Retail Trade  econ_branch_Technology Services  \\\n",
       "0                             0                                0   \n",
       "1                             0                                0   \n",
       "2                             0                                0   \n",
       "3                             0                                0   \n",
       "4                             0                                0   \n",
       "...                         ...                              ...   \n",
       "10405                         0                                0   \n",
       "10406                         1                                0   \n",
       "10407                         0                                0   \n",
       "10408                         0                                0   \n",
       "10409                         0                                0   \n",
       "\n",
       "       econ_branch_Transportation  econ_branch_Utilities  \n",
       "0                               0                      0  \n",
       "1                               0                      0  \n",
       "2                               0                      1  \n",
       "3                               0                      0  \n",
       "4                               0                      0  \n",
       "...                           ...                    ...  \n",
       "10405                           0                      0  \n",
       "10406                           0                      0  \n",
       "10407                           0                      0  \n",
       "10408                           0                      0  \n",
       "10409                           0                      0  \n",
       "\n",
       "[10410 rows x 21 columns]"
      ]
     },
     "execution_count": 11,
     "metadata": {},
     "output_type": "execute_result"
    }
   ],
   "source": [
    "dummies = pd.get_dummies(X[['econ_branch']], drop_first=True)\n",
    "X = pd.concat([X.drop(['econ_branch'],axis=1), dummies],axis=1)\n",
    "X"
   ]
  },
  {
   "cell_type": "code",
   "execution_count": 12,
   "metadata": {},
   "outputs": [],
   "source": [
    "X_train, X_test, y_train, y_test = train_test_split(X, y, test_size=0.33, random_state=42)"
   ]
  },
  {
   "cell_type": "code",
   "execution_count": 13,
   "metadata": {},
   "outputs": [
    {
     "data": {
      "text/plain": [
       "-0.0009091658115434331"
      ]
     },
     "execution_count": 13,
     "metadata": {},
     "output_type": "execute_result"
    }
   ],
   "source": [
    "# Let's make predictions for monthly returns\n",
    "\n",
    "dummy_regr = DummyRegressor(strategy=\"mean\")\n",
    "dummy_regr.fit(X_train, y_train.roi_month)\n",
    "DummyRegressor()\n",
    "dummy_regr.score(X_test, y_test.roi_month) # R^2 for dummy regressor always inserting mean\n"
   ]
  },
  {
   "cell_type": "code",
   "execution_count": 14,
   "metadata": {},
   "outputs": [
    {
     "name": "stdout",
     "output_type": "stream",
     "text": [
      "Coefficients: \n",
      " [-2.58754006e-02 -1.47941560e-08 -3.33509934e-04 -3.60498957e-02\n",
      "  3.68722367e-03 -3.65763807e-03 -3.62283216e-03 -1.02539159e-02\n",
      " -2.11653260e-02 -5.35156484e-03 -1.03534138e-02 -2.59743493e-02\n",
      " -1.98962365e-02 -7.56134063e-03 -2.90938301e-02 -9.74432557e-03\n",
      " -7.97106749e-03 -2.01072250e-03 -6.66985721e-03 -1.00750579e-02\n",
      " -1.27651544e-02]\n",
      "Mean squared error: 0.01\n",
      "Coefficient of determination: 0.00\n"
     ]
    }
   ],
   "source": [
    "regr = LinearRegression()\n",
    "regr.fit(X_train, y_train.roi_month)\n",
    "\n",
    "y_pred = regr.predict(X_test)\n",
    "\n",
    "# The coefficients\n",
    "print(\"Coefficients: \\n\", regr.coef_)\n",
    "# The mean squared error\n",
    "print(\"Mean squared error: %.2f\" % mean_squared_error(y_test.roi_month, y_pred))\n",
    "# The coefficient of determination: 1 is perfect prediction\n",
    "print(\"Coefficient of determination: %.2f\" % r2_score(y_test.roi_month, y_pred))"
   ]
  },
  {
   "cell_type": "code",
   "execution_count": 15,
   "metadata": {},
   "outputs": [
    {
     "name": "stdout",
     "output_type": "stream",
     "text": [
      "Mean MAE: 0.062 (0.002)\n"
     ]
    }
   ],
   "source": [
    "regr = LinearRegression()\n",
    "cv = RepeatedKFold(n_splits=10, n_repeats=3, random_state=1)\n",
    "scores = cross_val_score(regr, X, y.roi_month.to_frame(), scoring='neg_mean_absolute_error', cv=cv, n_jobs=-1)\n",
    "scores = abs(scores)\n",
    "print('Mean MAE: %.3f (%.3f)' % (scores.mean(), scores.std()) )"
   ]
  },
  {
   "cell_type": "code",
   "execution_count": 16,
   "metadata": {},
   "outputs": [
    {
     "data": {
      "text/plain": [
       "0.0010593662595722586"
      ]
     },
     "execution_count": 16,
     "metadata": {},
     "output_type": "execute_result"
    }
   ],
   "source": [
    "1 - ((y_test.roi_month - y_pred)**2).sum() / ((y_test.roi_month - y_test.roi_month.mean())**2).sum() # R^2 for linear regressor"
   ]
  },
  {
   "cell_type": "code",
   "execution_count": 17,
   "metadata": {},
   "outputs": [
    {
     "name": "stdout",
     "output_type": "stream",
     "text": [
      "Mean MAE: 0.062 (0.002)\n"
     ]
    }
   ],
   "source": [
    "xgb_regr = XGBRegressor()\n",
    "cv = RepeatedKFold(n_splits=10, n_repeats=3, random_state=1)\n",
    "scores = cross_val_score(xgb_regr, X, y.roi_month.to_frame(), scoring='neg_mean_absolute_error', cv=cv, n_jobs=-1)\n",
    "scores = abs(scores)\n",
    "print('Mean MAE: %.3f (%.3f)' % (scores.mean(), scores.std()) )"
   ]
  },
  {
   "cell_type": "code",
   "execution_count": 18,
   "metadata": {},
   "outputs": [
    {
     "data": {
      "text/plain": [
       "0.02802893840303089"
      ]
     },
     "execution_count": 18,
     "metadata": {},
     "output_type": "execute_result"
    }
   ],
   "source": [
    "model = XGBRegressor()\n",
    "# fit model\n",
    "model.fit(X_train, y_train.roi_month.to_frame())\n",
    "# define new data\n",
    "y_pred = model.predict(X_test)\n",
    "1 - ((y_test.roi_month - y_pred)**2).sum() / ((y_test.roi_month - y_test.roi_month.mean())**2).sum()  # R^2 for XGB"
   ]
  },
  {
   "cell_type": "code",
   "execution_count": 20,
   "metadata": {},
   "outputs": [
    {
     "data": {
      "text/plain": [
       "<AxesSubplot:xlabel='score', ylabel='roi_month'>"
      ]
     },
     "execution_count": 20,
     "metadata": {},
     "output_type": "execute_result"
    },
    {
     "data": {
      "image/png": "[encoded data removed]",
      "text/plain": [
       "<Figure size 432x288 with 1 Axes>"
      ]
     },
     "metadata": {
      "needs_background": "light"
     },
     "output_type": "display_data"
    }
   ],
   "source": [
    "sn.scatterplot(x=X_train.score, y=y_train.roi_month)"
   ]
  },
  {
   "cell_type": "code",
   "execution_count": null,
   "metadata": {},
   "outputs": [],
   "source": []
  }
 ],
 "metadata": {
  "interpreter": {
   "hash": "58de8aa07fc6398592308fe07b5b6bc728e0ecc5ba873a4c8ab4c85ea03c5bc1"
  },
  "kernelspec": {
   "display_name": "Python 3.9.5 ('base')",
   "language": "python",
   "name": "python3"
  },
  "language_info": {
   "codemirror_mode": {
    "name": "ipython",
    "version": 3
   },
   "file_extension": ".py",
   "mimetype": "text/x-python",
   "name": "python",
   "nbconvert_exporter": "python",
   "pygments_lexer": "ipython3",
   "version": "3.9.5"
  },
  "orig_nbformat": 4
 },
 "nbformat": 4,
 "nbformat_minor": 2
}
