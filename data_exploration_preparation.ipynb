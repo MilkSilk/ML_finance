{
 "cells": [
  {
   "cell_type": "markdown",
   "metadata": {},
   "source": [
    "# Data exploration and preparation notebook\n",
    "### TODO:\n",
    "\n",
    "• Gather general statistics about the provided convictions time-series\n",
    "\n",
    "• Identify any potential problems with data, filter outliers etc.\n",
    "\n",
    "• Prepare a master index of stock symbols and retrieve corresponding price\n",
    "data for each symbol (sources, e.g. Yahoo Finance or Google)"
   ]
  },
  {
   "cell_type": "code",
   "execution_count": 53,
   "metadata": {},
   "outputs": [],
   "source": [
    "import pandas as pd\n",
    "import matplotlib.pyplot as plt\n",
    "import seaborn as sns\n",
    "import numpy as np\n",
    "\n",
    "import random\n",
    "import copy\n",
    "import yfinance as yf"
   ]
  },
  {
   "cell_type": "code",
   "execution_count": 5,
   "metadata": {},
   "outputs": [
    {
     "data": {
      "text/html": [
       "<div>\n",
       "<style scoped>\n",
       "    .dataframe tbody tr th:only-of-type {\n",
       "        vertical-align: middle;\n",
       "    }\n",
       "\n",
       "    .dataframe tbody tr th {\n",
       "        vertical-align: top;\n",
       "    }\n",
       "\n",
       "    .dataframe thead th {\n",
       "        text-align: right;\n",
       "    }\n",
       "</style>\n",
       "<table border=\"1\" class=\"dataframe\">\n",
       "  <thead>\n",
       "    <tr style=\"text-align: right;\">\n",
       "      <th></th>\n",
       "      <th>0</th>\n",
       "      <th>1</th>\n",
       "      <th>2</th>\n",
       "      <th>3</th>\n",
       "      <th>4</th>\n",
       "      <th>5</th>\n",
       "      <th>6</th>\n",
       "    </tr>\n",
       "  </thead>\n",
       "  <tbody>\n",
       "    <tr>\n",
       "      <th>0</th>\n",
       "      <td>10:01:54.481 77425 [77425-thread-2] INFO  a.s....</td>\n",
       "      <td>2004-02-11</td>\n",
       "      <td>SU</td>\n",
       "      <td>SU</td>\n",
       "      <td>Energy Minerals</td>\n",
       "      <td>GN63J3-R</td>\n",
       "      <td>0.953727</td>\n",
       "    </tr>\n",
       "    <tr>\n",
       "      <th>1</th>\n",
       "      <td>10:01:54.481 77425 [77425-thread-2] INFO  a.s....</td>\n",
       "      <td>2004-02-11</td>\n",
       "      <td>GGG</td>\n",
       "      <td>GGG</td>\n",
       "      <td>Producer Manufacturing</td>\n",
       "      <td>H5490W-R</td>\n",
       "      <td>0.952753</td>\n",
       "    </tr>\n",
       "    <tr>\n",
       "      <th>2</th>\n",
       "      <td>10:01:54.481 77425 [77425-thread-2] INFO  a.s....</td>\n",
       "      <td>2004-02-11</td>\n",
       "      <td>WGR</td>\n",
       "      <td>WGR</td>\n",
       "      <td>Energy Minerals</td>\n",
       "      <td>V0622Q-R</td>\n",
       "      <td>0.947634</td>\n",
       "    </tr>\n",
       "    <tr>\n",
       "      <th>3</th>\n",
       "      <td>10:01:54.481 77425 [77425-thread-2] INFO  a.s....</td>\n",
       "      <td>2004-02-11</td>\n",
       "      <td>CWT</td>\n",
       "      <td>CWT</td>\n",
       "      <td>Utilities</td>\n",
       "      <td>GSWXLY-R</td>\n",
       "      <td>0.934181</td>\n",
       "    </tr>\n",
       "    <tr>\n",
       "      <th>4</th>\n",
       "      <td>10:01:54.481 77425 [77425-thread-2] INFO  a.s....</td>\n",
       "      <td>2004-02-11</td>\n",
       "      <td>BLL</td>\n",
       "      <td>BLL</td>\n",
       "      <td>Process Industries</td>\n",
       "      <td>VFT0VQ-R</td>\n",
       "      <td>0.922862</td>\n",
       "    </tr>\n",
       "  </tbody>\n",
       "</table>\n",
       "</div>"
      ],
      "text/plain": [
       "                                                   0           1    2    3  \\\n",
       "0  10:01:54.481 77425 [77425-thread-2] INFO  a.s....  2004-02-11   SU   SU   \n",
       "1  10:01:54.481 77425 [77425-thread-2] INFO  a.s....  2004-02-11  GGG  GGG   \n",
       "2  10:01:54.481 77425 [77425-thread-2] INFO  a.s....  2004-02-11  WGR  WGR   \n",
       "3  10:01:54.481 77425 [77425-thread-2] INFO  a.s....  2004-02-11  CWT  CWT   \n",
       "4  10:01:54.481 77425 [77425-thread-2] INFO  a.s....  2004-02-11  BLL  BLL   \n",
       "\n",
       "                        4         5         6  \n",
       "0         Energy Minerals  GN63J3-R  0.953727  \n",
       "1  Producer Manufacturing  H5490W-R  0.952753  \n",
       "2         Energy Minerals  V0622Q-R  0.947634  \n",
       "3               Utilities  GSWXLY-R  0.934181  \n",
       "4      Process Industries  VFT0VQ-R  0.922862  "
      ]
     },
     "execution_count": 5,
     "metadata": {},
     "output_type": "execute_result"
    }
   ],
   "source": [
    "data_raw = pd.read_csv(\"CONVICTIONLISTTOPN_BSLD-408.csv\", header=None)\n",
    "data_raw.head()"
   ]
  },
  {
   "cell_type": "code",
   "execution_count": 6,
   "metadata": {},
   "outputs": [
    {
     "data": {
      "text/plain": [
       "'10:01:54.481 77425 [77425-thread-2] INFO  a.s.m.c.ConvictionImpl - CONVICTIONLISTTOPN'"
      ]
     },
     "execution_count": 6,
     "metadata": {},
     "output_type": "execute_result"
    }
   ],
   "source": [
    "# Let's see the whole string from first column, first row\n",
    "str(data_raw.iloc[0, 0])"
   ]
  },
  {
   "cell_type": "markdown",
   "metadata": {},
   "source": [
    "There are 7 columns\n",
    "\n",
    "0 - part of some logs, contains hour, some number, thread number, log type (INFO, ERROR, WARN etc.), some characters - check which parts vary accross rows\n",
    "\n",
    "1 - date\n",
    "\n",
    "2 - stock symbol?\n",
    "\n",
    "3 - stock symbol?\n",
    "\n",
    "4 - Branch of economy/business the company is doing\n",
    "\n",
    "5 - Another stock symbol? Explore further\n",
    "\n",
    "6 - score; Target variable\n"
   ]
  },
  {
   "cell_type": "code",
   "execution_count": 7,
   "metadata": {},
   "outputs": [],
   "source": [
    "data = copy.deepcopy(data_raw)"
   ]
  },
  {
   "cell_type": "markdown",
   "metadata": {},
   "source": [
    "## 0 column"
   ]
  },
  {
   "cell_type": "code",
   "execution_count": 8,
   "metadata": {},
   "outputs": [
    {
     "data": {
      "text/plain": [
       "{' 77425 [77425-thread-2] INFO  a.s.m.c.ConvictionImpl - CONVICTIONLISTTOPN'}"
      ]
     },
     "execution_count": 8,
     "metadata": {},
     "output_type": "execute_result"
    }
   ],
   "source": [
    "# Check if there is any variability in this column apart from hour\n",
    "set([x[12:] for x in list(data_raw[0].unique())])"
   ]
  },
  {
   "cell_type": "code",
   "execution_count": 9,
   "metadata": {},
   "outputs": [
    {
     "data": {
      "text/html": [
       "<div>\n",
       "<style scoped>\n",
       "    .dataframe tbody tr th:only-of-type {\n",
       "        vertical-align: middle;\n",
       "    }\n",
       "\n",
       "    .dataframe tbody tr th {\n",
       "        vertical-align: top;\n",
       "    }\n",
       "\n",
       "    .dataframe thead th {\n",
       "        text-align: right;\n",
       "    }\n",
       "</style>\n",
       "<table border=\"1\" class=\"dataframe\">\n",
       "  <thead>\n",
       "    <tr style=\"text-align: right;\">\n",
       "      <th></th>\n",
       "      <th>0</th>\n",
       "      <th>1</th>\n",
       "      <th>2</th>\n",
       "      <th>3</th>\n",
       "      <th>4</th>\n",
       "      <th>5</th>\n",
       "      <th>6</th>\n",
       "    </tr>\n",
       "  </thead>\n",
       "  <tbody>\n",
       "    <tr>\n",
       "      <th>0</th>\n",
       "      <td>10:01:54.481</td>\n",
       "      <td>2004-02-11</td>\n",
       "      <td>SU</td>\n",
       "      <td>SU</td>\n",
       "      <td>Energy Minerals</td>\n",
       "      <td>GN63J3-R</td>\n",
       "      <td>0.953727</td>\n",
       "    </tr>\n",
       "    <tr>\n",
       "      <th>1</th>\n",
       "      <td>10:01:54.481</td>\n",
       "      <td>2004-02-11</td>\n",
       "      <td>GGG</td>\n",
       "      <td>GGG</td>\n",
       "      <td>Producer Manufacturing</td>\n",
       "      <td>H5490W-R</td>\n",
       "      <td>0.952753</td>\n",
       "    </tr>\n",
       "    <tr>\n",
       "      <th>2</th>\n",
       "      <td>10:01:54.481</td>\n",
       "      <td>2004-02-11</td>\n",
       "      <td>WGR</td>\n",
       "      <td>WGR</td>\n",
       "      <td>Energy Minerals</td>\n",
       "      <td>V0622Q-R</td>\n",
       "      <td>0.947634</td>\n",
       "    </tr>\n",
       "    <tr>\n",
       "      <th>3</th>\n",
       "      <td>10:01:54.481</td>\n",
       "      <td>2004-02-11</td>\n",
       "      <td>CWT</td>\n",
       "      <td>CWT</td>\n",
       "      <td>Utilities</td>\n",
       "      <td>GSWXLY-R</td>\n",
       "      <td>0.934181</td>\n",
       "    </tr>\n",
       "    <tr>\n",
       "      <th>4</th>\n",
       "      <td>10:01:54.481</td>\n",
       "      <td>2004-02-11</td>\n",
       "      <td>BLL</td>\n",
       "      <td>BLL</td>\n",
       "      <td>Process Industries</td>\n",
       "      <td>VFT0VQ-R</td>\n",
       "      <td>0.922862</td>\n",
       "    </tr>\n",
       "  </tbody>\n",
       "</table>\n",
       "</div>"
      ],
      "text/plain": [
       "              0           1    2    3                       4         5  \\\n",
       "0  10:01:54.481  2004-02-11   SU   SU         Energy Minerals  GN63J3-R   \n",
       "1  10:01:54.481  2004-02-11  GGG  GGG  Producer Manufacturing  H5490W-R   \n",
       "2  10:01:54.481  2004-02-11  WGR  WGR         Energy Minerals  V0622Q-R   \n",
       "3  10:01:54.481  2004-02-11  CWT  CWT               Utilities  GSWXLY-R   \n",
       "4  10:01:54.481  2004-02-11  BLL  BLL      Process Industries  VFT0VQ-R   \n",
       "\n",
       "          6  \n",
       "0  0.953727  \n",
       "1  0.952753  \n",
       "2  0.947634  \n",
       "3  0.934181  \n",
       "4  0.922862  "
      ]
     },
     "execution_count": 9,
     "metadata": {},
     "output_type": "execute_result"
    }
   ],
   "source": [
    "data[0] = data[0].str.slice(start=0, stop=12, step=1)\n",
    "data.head()"
   ]
  },
  {
   "cell_type": "code",
   "execution_count": 10,
   "metadata": {},
   "outputs": [
    {
     "data": {
      "image/png": "[encoded data removed]",
      "text/plain": [
       "<Figure size 432x288 with 1 Axes>"
      ]
     },
     "metadata": {
      "needs_background": "light"
     },
     "output_type": "display_data"
    }
   ],
   "source": [
    "plt.plot(range(len(data)), data[0])\n",
    "plt.show()"
   ]
  },
  {
   "cell_type": "markdown",
   "metadata": {},
   "source": [
    "Not the prettiest plot - but it shows that the hours are probably just monotonically increasing. Let's check that to be sure"
   ]
  },
  {
   "cell_type": "code",
   "execution_count": 11,
   "metadata": {},
   "outputs": [
    {
     "data": {
      "text/plain": [
       "True"
      ]
     },
     "execution_count": 11,
     "metadata": {},
     "output_type": "execute_result"
    }
   ],
   "source": [
    "data[0].is_monotonic_increasing"
   ]
  },
  {
   "cell_type": "markdown",
   "metadata": {},
   "source": [
    "The hours are monotically increasing or constant; indicates that those are probably just the hours when logs were pulled from the system and have nothing to do with the target variable. Shouldn't remain in the analysis, let's remove it"
   ]
  },
  {
   "cell_type": "code",
   "execution_count": 12,
   "metadata": {},
   "outputs": [
    {
     "data": {
      "text/html": [
       "<div>\n",
       "<style scoped>\n",
       "    .dataframe tbody tr th:only-of-type {\n",
       "        vertical-align: middle;\n",
       "    }\n",
       "\n",
       "    .dataframe tbody tr th {\n",
       "        vertical-align: top;\n",
       "    }\n",
       "\n",
       "    .dataframe thead th {\n",
       "        text-align: right;\n",
       "    }\n",
       "</style>\n",
       "<table border=\"1\" class=\"dataframe\">\n",
       "  <thead>\n",
       "    <tr style=\"text-align: right;\">\n",
       "      <th></th>\n",
       "      <th>1</th>\n",
       "      <th>2</th>\n",
       "      <th>3</th>\n",
       "      <th>4</th>\n",
       "      <th>5</th>\n",
       "      <th>6</th>\n",
       "    </tr>\n",
       "  </thead>\n",
       "  <tbody>\n",
       "    <tr>\n",
       "      <th>0</th>\n",
       "      <td>2004-02-11</td>\n",
       "      <td>SU</td>\n",
       "      <td>SU</td>\n",
       "      <td>Energy Minerals</td>\n",
       "      <td>GN63J3-R</td>\n",
       "      <td>0.953727</td>\n",
       "    </tr>\n",
       "    <tr>\n",
       "      <th>1</th>\n",
       "      <td>2004-02-11</td>\n",
       "      <td>GGG</td>\n",
       "      <td>GGG</td>\n",
       "      <td>Producer Manufacturing</td>\n",
       "      <td>H5490W-R</td>\n",
       "      <td>0.952753</td>\n",
       "    </tr>\n",
       "    <tr>\n",
       "      <th>2</th>\n",
       "      <td>2004-02-11</td>\n",
       "      <td>WGR</td>\n",
       "      <td>WGR</td>\n",
       "      <td>Energy Minerals</td>\n",
       "      <td>V0622Q-R</td>\n",
       "      <td>0.947634</td>\n",
       "    </tr>\n",
       "    <tr>\n",
       "      <th>3</th>\n",
       "      <td>2004-02-11</td>\n",
       "      <td>CWT</td>\n",
       "      <td>CWT</td>\n",
       "      <td>Utilities</td>\n",
       "      <td>GSWXLY-R</td>\n",
       "      <td>0.934181</td>\n",
       "    </tr>\n",
       "    <tr>\n",
       "      <th>4</th>\n",
       "      <td>2004-02-11</td>\n",
       "      <td>BLL</td>\n",
       "      <td>BLL</td>\n",
       "      <td>Process Industries</td>\n",
       "      <td>VFT0VQ-R</td>\n",
       "      <td>0.922862</td>\n",
       "    </tr>\n",
       "    <tr>\n",
       "      <th>...</th>\n",
       "      <td>...</td>\n",
       "      <td>...</td>\n",
       "      <td>...</td>\n",
       "      <td>...</td>\n",
       "      <td>...</td>\n",
       "      <td>...</td>\n",
       "    </tr>\n",
       "    <tr>\n",
       "      <th>37355</th>\n",
       "      <td>2022-02-09</td>\n",
       "      <td>PEP</td>\n",
       "      <td>PEP</td>\n",
       "      <td>Consumer Non-Durables</td>\n",
       "      <td>PPCTFP-R</td>\n",
       "      <td>0.701507</td>\n",
       "    </tr>\n",
       "    <tr>\n",
       "      <th>37356</th>\n",
       "      <td>2022-02-09</td>\n",
       "      <td>SSNC</td>\n",
       "      <td>SSNC</td>\n",
       "      <td>Technology Services</td>\n",
       "      <td>G92RX2-R</td>\n",
       "      <td>0.701123</td>\n",
       "    </tr>\n",
       "    <tr>\n",
       "      <th>37357</th>\n",
       "      <td>2022-02-09</td>\n",
       "      <td>GEF</td>\n",
       "      <td>GEF</td>\n",
       "      <td>Process Industries</td>\n",
       "      <td>MPX0N4-R</td>\n",
       "      <td>0.697954</td>\n",
       "    </tr>\n",
       "    <tr>\n",
       "      <th>37358</th>\n",
       "      <td>2022-02-09</td>\n",
       "      <td>DPZ</td>\n",
       "      <td>DPZ</td>\n",
       "      <td>Consumer Services</td>\n",
       "      <td>F05QG0-R</td>\n",
       "      <td>0.697741</td>\n",
       "    </tr>\n",
       "    <tr>\n",
       "      <th>37359</th>\n",
       "      <td>2022-02-09</td>\n",
       "      <td>LIFZF</td>\n",
       "      <td>LIFZF</td>\n",
       "      <td>Non-Energy Minerals</td>\n",
       "      <td>Q404Y1-R</td>\n",
       "      <td>0.695644</td>\n",
       "    </tr>\n",
       "  </tbody>\n",
       "</table>\n",
       "<p>37360 rows × 6 columns</p>\n",
       "</div>"
      ],
      "text/plain": [
       "                1      2      3                       4         5         6\n",
       "0      2004-02-11     SU     SU         Energy Minerals  GN63J3-R  0.953727\n",
       "1      2004-02-11    GGG    GGG  Producer Manufacturing  H5490W-R  0.952753\n",
       "2      2004-02-11    WGR    WGR         Energy Minerals  V0622Q-R  0.947634\n",
       "3      2004-02-11    CWT    CWT               Utilities  GSWXLY-R  0.934181\n",
       "4      2004-02-11    BLL    BLL      Process Industries  VFT0VQ-R  0.922862\n",
       "...           ...    ...    ...                     ...       ...       ...\n",
       "37355  2022-02-09    PEP    PEP   Consumer Non-Durables  PPCTFP-R  0.701507\n",
       "37356  2022-02-09   SSNC   SSNC     Technology Services  G92RX2-R  0.701123\n",
       "37357  2022-02-09    GEF    GEF      Process Industries  MPX0N4-R  0.697954\n",
       "37358  2022-02-09    DPZ    DPZ       Consumer Services  F05QG0-R  0.697741\n",
       "37359  2022-02-09  LIFZF  LIFZF     Non-Energy Minerals  Q404Y1-R  0.695644\n",
       "\n",
       "[37360 rows x 6 columns]"
      ]
     },
     "execution_count": 12,
     "metadata": {},
     "output_type": "execute_result"
    }
   ],
   "source": [
    "data = data.drop(0, axis=1)\n",
    "data"
   ]
  },
  {
   "cell_type": "markdown",
   "metadata": {},
   "source": [
    "## 1 column"
   ]
  },
  {
   "cell_type": "code",
   "execution_count": 13,
   "metadata": {},
   "outputs": [
    {
     "data": {
      "image/png": "[encoded data removed]",
      "text/plain": [
       "<Figure size 432x288 with 1 Axes>"
      ]
     },
     "metadata": {
      "needs_background": "light"
     },
     "output_type": "display_data"
    }
   ],
   "source": [
    "plt.plot(range(len(data)), data[1])\n",
    "plt.show()"
   ]
  },
  {
   "cell_type": "code",
   "execution_count": 14,
   "metadata": {},
   "outputs": [
    {
     "data": {
      "text/plain": [
       "True"
      ]
     },
     "execution_count": 14,
     "metadata": {},
     "output_type": "execute_result"
    }
   ],
   "source": [
    "data[1].is_monotonic_increasing"
   ]
  },
  {
   "cell_type": "markdown",
   "metadata": {},
   "source": [
    "Same as above, but those are dates! Let's check if each day is present or is it weekly or monthly or what. Later split into day, month, year and keep those columns, discard the original date as a whole."
   ]
  },
  {
   "cell_type": "code",
   "execution_count": 15,
   "metadata": {},
   "outputs": [
    {
     "data": {
      "text/plain": [
       "dates_diff\n",
       "14.0    461\n",
       "21.0      3\n",
       "28.0      2\n",
       "Name: 0, dtype: int64"
      ]
     },
     "execution_count": 15,
     "metadata": {},
     "output_type": "execute_result"
    }
   ],
   "source": [
    "dates = pd.DataFrame(copy.deepcopy(data[1]).unique())\n",
    "dates[\"date_copy\"] = dates[0].shift(1)#.drop(0, axis=0)\n",
    "dates = dates.apply(pd.to_datetime)\n",
    "dates[\"dates_diff\"] = (dates[0] - dates[\"date_copy\"]).dt.days\n",
    "dates.groupby(\"dates_diff\").count()[0]"
   ]
  },
  {
   "cell_type": "code",
   "execution_count": 16,
   "metadata": {},
   "outputs": [
    {
     "data": {
      "text/html": [
       "<div>\n",
       "<style scoped>\n",
       "    .dataframe tbody tr th:only-of-type {\n",
       "        vertical-align: middle;\n",
       "    }\n",
       "\n",
       "    .dataframe tbody tr th {\n",
       "        vertical-align: top;\n",
       "    }\n",
       "\n",
       "    .dataframe thead th {\n",
       "        text-align: right;\n",
       "    }\n",
       "</style>\n",
       "<table border=\"1\" class=\"dataframe\">\n",
       "  <thead>\n",
       "    <tr style=\"text-align: right;\">\n",
       "      <th></th>\n",
       "      <th>0</th>\n",
       "      <th>date_copy</th>\n",
       "      <th>dates_diff</th>\n",
       "    </tr>\n",
       "  </thead>\n",
       "  <tbody>\n",
       "    <tr>\n",
       "      <th>89</th>\n",
       "      <td>2007-07-18</td>\n",
       "      <td>2007-06-27</td>\n",
       "      <td>21.0</td>\n",
       "    </tr>\n",
       "    <tr>\n",
       "      <th>219</th>\n",
       "      <td>2012-07-18</td>\n",
       "      <td>2012-06-27</td>\n",
       "      <td>21.0</td>\n",
       "    </tr>\n",
       "    <tr>\n",
       "      <th>257</th>\n",
       "      <td>2014-01-15</td>\n",
       "      <td>2013-12-18</td>\n",
       "      <td>28.0</td>\n",
       "    </tr>\n",
       "    <tr>\n",
       "      <th>374</th>\n",
       "      <td>2018-07-18</td>\n",
       "      <td>2018-06-27</td>\n",
       "      <td>21.0</td>\n",
       "    </tr>\n",
       "    <tr>\n",
       "      <th>412</th>\n",
       "      <td>2020-01-15</td>\n",
       "      <td>2019-12-18</td>\n",
       "      <td>28.0</td>\n",
       "    </tr>\n",
       "  </tbody>\n",
       "</table>\n",
       "</div>"
      ],
      "text/plain": [
       "             0  date_copy  dates_diff\n",
       "89  2007-07-18 2007-06-27        21.0\n",
       "219 2012-07-18 2012-06-27        21.0\n",
       "257 2014-01-15 2013-12-18        28.0\n",
       "374 2018-07-18 2018-06-27        21.0\n",
       "412 2020-01-15 2019-12-18        28.0"
      ]
     },
     "execution_count": 16,
     "metadata": {},
     "output_type": "execute_result"
    }
   ],
   "source": [
    "dates[dates[\"dates_diff\"]>14]"
   ]
  },
  {
   "cell_type": "markdown",
   "metadata": {},
   "source": [
    "Mostly the observations are done bi-weekly, sometimes tri-weekly or quad-weekly. No way to easily remove the tri and quad-weekly observations as it would create even bigger data gaps. Will leave it as it is"
   ]
  },
  {
   "cell_type": "code",
   "execution_count": 17,
   "metadata": {},
   "outputs": [
    {
     "data": {
      "text/html": [
       "<div>\n",
       "<style scoped>\n",
       "    .dataframe tbody tr th:only-of-type {\n",
       "        vertical-align: middle;\n",
       "    }\n",
       "\n",
       "    .dataframe tbody tr th {\n",
       "        vertical-align: top;\n",
       "    }\n",
       "\n",
       "    .dataframe thead th {\n",
       "        text-align: right;\n",
       "    }\n",
       "</style>\n",
       "<table border=\"1\" class=\"dataframe\">\n",
       "  <thead>\n",
       "    <tr style=\"text-align: right;\">\n",
       "      <th></th>\n",
       "      <th>date</th>\n",
       "      <th>2</th>\n",
       "      <th>3</th>\n",
       "      <th>4</th>\n",
       "      <th>5</th>\n",
       "      <th>6</th>\n",
       "      <th>year</th>\n",
       "      <th>month</th>\n",
       "      <th>day</th>\n",
       "    </tr>\n",
       "  </thead>\n",
       "  <tbody>\n",
       "    <tr>\n",
       "      <th>0</th>\n",
       "      <td>2004-02-11</td>\n",
       "      <td>SU</td>\n",
       "      <td>SU</td>\n",
       "      <td>Energy Minerals</td>\n",
       "      <td>GN63J3-R</td>\n",
       "      <td>0.953727</td>\n",
       "      <td>2004</td>\n",
       "      <td>02</td>\n",
       "      <td>11</td>\n",
       "    </tr>\n",
       "    <tr>\n",
       "      <th>1</th>\n",
       "      <td>2004-02-11</td>\n",
       "      <td>GGG</td>\n",
       "      <td>GGG</td>\n",
       "      <td>Producer Manufacturing</td>\n",
       "      <td>H5490W-R</td>\n",
       "      <td>0.952753</td>\n",
       "      <td>2004</td>\n",
       "      <td>02</td>\n",
       "      <td>11</td>\n",
       "    </tr>\n",
       "    <tr>\n",
       "      <th>2</th>\n",
       "      <td>2004-02-11</td>\n",
       "      <td>WGR</td>\n",
       "      <td>WGR</td>\n",
       "      <td>Energy Minerals</td>\n",
       "      <td>V0622Q-R</td>\n",
       "      <td>0.947634</td>\n",
       "      <td>2004</td>\n",
       "      <td>02</td>\n",
       "      <td>11</td>\n",
       "    </tr>\n",
       "    <tr>\n",
       "      <th>3</th>\n",
       "      <td>2004-02-11</td>\n",
       "      <td>CWT</td>\n",
       "      <td>CWT</td>\n",
       "      <td>Utilities</td>\n",
       "      <td>GSWXLY-R</td>\n",
       "      <td>0.934181</td>\n",
       "      <td>2004</td>\n",
       "      <td>02</td>\n",
       "      <td>11</td>\n",
       "    </tr>\n",
       "    <tr>\n",
       "      <th>4</th>\n",
       "      <td>2004-02-11</td>\n",
       "      <td>BLL</td>\n",
       "      <td>BLL</td>\n",
       "      <td>Process Industries</td>\n",
       "      <td>VFT0VQ-R</td>\n",
       "      <td>0.922862</td>\n",
       "      <td>2004</td>\n",
       "      <td>02</td>\n",
       "      <td>11</td>\n",
       "    </tr>\n",
       "  </tbody>\n",
       "</table>\n",
       "</div>"
      ],
      "text/plain": [
       "         date    2    3                       4         5         6  year  \\\n",
       "0  2004-02-11   SU   SU         Energy Minerals  GN63J3-R  0.953727  2004   \n",
       "1  2004-02-11  GGG  GGG  Producer Manufacturing  H5490W-R  0.952753  2004   \n",
       "2  2004-02-11  WGR  WGR         Energy Minerals  V0622Q-R  0.947634  2004   \n",
       "3  2004-02-11  CWT  CWT               Utilities  GSWXLY-R  0.934181  2004   \n",
       "4  2004-02-11  BLL  BLL      Process Industries  VFT0VQ-R  0.922862  2004   \n",
       "\n",
       "  month day  \n",
       "0    02  11  \n",
       "1    02  11  \n",
       "2    02  11  \n",
       "3    02  11  \n",
       "4    02  11  "
      ]
     },
     "execution_count": 17,
     "metadata": {},
     "output_type": "execute_result"
    }
   ],
   "source": [
    "data[\"year\"] = data[1].str.slice(start=0, stop=4)\n",
    "data[\"month\"] = data[1].str.slice(start=5, stop=7)\n",
    "data[\"day\"] = data[1].str.slice(start=8, stop=10)\n",
    "data = data.rename({1:\"date\"}, axis=1)\n",
    "data.head()"
   ]
  },
  {
   "cell_type": "markdown",
   "metadata": {},
   "source": [
    "Let's do some plots dividing the data based on day, month and year"
   ]
  },
  {
   "cell_type": "code",
   "execution_count": 18,
   "metadata": {},
   "outputs": [
    {
     "data": {
      "image/png": "[encoded data removed]",
      "text/plain": [
       "<Figure size 432x288 with 1 Axes>"
      ]
     },
     "metadata": {
      "needs_background": "light"
     },
     "output_type": "display_data"
    },
    {
     "data": {
      "image/png": "[encoded data removed]",
      "text/plain": [
       "<Figure size 432x288 with 1 Axes>"
      ]
     },
     "metadata": {
      "needs_background": "light"
     },
     "output_type": "display_data"
    },
    {
     "data": {
      "image/png": "[encoded data removed]",
      "text/plain": [
       "<Figure size 432x288 with 1 Axes>"
      ]
     },
     "metadata": {
      "needs_background": "light"
     },
     "output_type": "display_data"
    }
   ],
   "source": [
    "data.boxplot(column=6, by=\"day\")\n",
    "plt.xticks(rotation = -45)\n",
    "plt.show()\n",
    "data.boxplot(column=6, by=\"month\")\n",
    "plt.xticks(rotation = -45)\n",
    "plt.show()\n",
    "data.boxplot(column=6, by=\"year\")\n",
    "plt.xticks(rotation = -45)\n",
    "plt.show()"
   ]
  },
  {
   "cell_type": "markdown",
   "metadata": {},
   "source": [
    "As is to be expected - month and day don't cause a big variation in the data, year does!\n",
    "\n",
    "Years 2009, 2019 and 2020 have many outliers and seem atypical in the sense that their distribution is lower than other years.\n",
    "\n",
    "One year before and after 2009 - 2008 and 2010 are also slightly lower than most, this is understandable as there was a financial crysis 2008-2010.\n",
    "Same goes for 2019 and 2020 - financial crysis connected with the COVID-19 pandemic.\n",
    "\n",
    "2016 is another year of low convictions, it was a year of mini-recession."
   ]
  },
  {
   "cell_type": "markdown",
   "metadata": {},
   "source": [
    "## 2&3 column"
   ]
  },
  {
   "cell_type": "markdown",
   "metadata": {},
   "source": [
    "I think this is a replicated column, let's check:"
   ]
  },
  {
   "cell_type": "code",
   "execution_count": 19,
   "metadata": {},
   "outputs": [
    {
     "data": {
      "text/plain": [
       "True"
      ]
     },
     "execution_count": 19,
     "metadata": {},
     "output_type": "execute_result"
    }
   ],
   "source": [
    "len(data) == len(data[data[2]==data[3]])"
   ]
  },
  {
   "cell_type": "markdown",
   "metadata": {},
   "source": [
    "Yes, let's drop column 3 and rename column 2 to \"symbol\""
   ]
  },
  {
   "cell_type": "code",
   "execution_count": 20,
   "metadata": {},
   "outputs": [
    {
     "data": {
      "text/html": [
       "<div>\n",
       "<style scoped>\n",
       "    .dataframe tbody tr th:only-of-type {\n",
       "        vertical-align: middle;\n",
       "    }\n",
       "\n",
       "    .dataframe tbody tr th {\n",
       "        vertical-align: top;\n",
       "    }\n",
       "\n",
       "    .dataframe thead th {\n",
       "        text-align: right;\n",
       "    }\n",
       "</style>\n",
       "<table border=\"1\" class=\"dataframe\">\n",
       "  <thead>\n",
       "    <tr style=\"text-align: right;\">\n",
       "      <th></th>\n",
       "      <th>date</th>\n",
       "      <th>symbol</th>\n",
       "      <th>4</th>\n",
       "      <th>5</th>\n",
       "      <th>6</th>\n",
       "      <th>year</th>\n",
       "      <th>month</th>\n",
       "      <th>day</th>\n",
       "    </tr>\n",
       "  </thead>\n",
       "  <tbody>\n",
       "    <tr>\n",
       "      <th>0</th>\n",
       "      <td>2004-02-11</td>\n",
       "      <td>SU</td>\n",
       "      <td>Energy Minerals</td>\n",
       "      <td>GN63J3-R</td>\n",
       "      <td>0.953727</td>\n",
       "      <td>2004</td>\n",
       "      <td>02</td>\n",
       "      <td>11</td>\n",
       "    </tr>\n",
       "    <tr>\n",
       "      <th>1</th>\n",
       "      <td>2004-02-11</td>\n",
       "      <td>GGG</td>\n",
       "      <td>Producer Manufacturing</td>\n",
       "      <td>H5490W-R</td>\n",
       "      <td>0.952753</td>\n",
       "      <td>2004</td>\n",
       "      <td>02</td>\n",
       "      <td>11</td>\n",
       "    </tr>\n",
       "    <tr>\n",
       "      <th>2</th>\n",
       "      <td>2004-02-11</td>\n",
       "      <td>WGR</td>\n",
       "      <td>Energy Minerals</td>\n",
       "      <td>V0622Q-R</td>\n",
       "      <td>0.947634</td>\n",
       "      <td>2004</td>\n",
       "      <td>02</td>\n",
       "      <td>11</td>\n",
       "    </tr>\n",
       "    <tr>\n",
       "      <th>3</th>\n",
       "      <td>2004-02-11</td>\n",
       "      <td>CWT</td>\n",
       "      <td>Utilities</td>\n",
       "      <td>GSWXLY-R</td>\n",
       "      <td>0.934181</td>\n",
       "      <td>2004</td>\n",
       "      <td>02</td>\n",
       "      <td>11</td>\n",
       "    </tr>\n",
       "    <tr>\n",
       "      <th>4</th>\n",
       "      <td>2004-02-11</td>\n",
       "      <td>BLL</td>\n",
       "      <td>Process Industries</td>\n",
       "      <td>VFT0VQ-R</td>\n",
       "      <td>0.922862</td>\n",
       "      <td>2004</td>\n",
       "      <td>02</td>\n",
       "      <td>11</td>\n",
       "    </tr>\n",
       "    <tr>\n",
       "      <th>...</th>\n",
       "      <td>...</td>\n",
       "      <td>...</td>\n",
       "      <td>...</td>\n",
       "      <td>...</td>\n",
       "      <td>...</td>\n",
       "      <td>...</td>\n",
       "      <td>...</td>\n",
       "      <td>...</td>\n",
       "    </tr>\n",
       "    <tr>\n",
       "      <th>37355</th>\n",
       "      <td>2022-02-09</td>\n",
       "      <td>PEP</td>\n",
       "      <td>Consumer Non-Durables</td>\n",
       "      <td>PPCTFP-R</td>\n",
       "      <td>0.701507</td>\n",
       "      <td>2022</td>\n",
       "      <td>02</td>\n",
       "      <td>09</td>\n",
       "    </tr>\n",
       "    <tr>\n",
       "      <th>37356</th>\n",
       "      <td>2022-02-09</td>\n",
       "      <td>SSNC</td>\n",
       "      <td>Technology Services</td>\n",
       "      <td>G92RX2-R</td>\n",
       "      <td>0.701123</td>\n",
       "      <td>2022</td>\n",
       "      <td>02</td>\n",
       "      <td>09</td>\n",
       "    </tr>\n",
       "    <tr>\n",
       "      <th>37357</th>\n",
       "      <td>2022-02-09</td>\n",
       "      <td>GEF</td>\n",
       "      <td>Process Industries</td>\n",
       "      <td>MPX0N4-R</td>\n",
       "      <td>0.697954</td>\n",
       "      <td>2022</td>\n",
       "      <td>02</td>\n",
       "      <td>09</td>\n",
       "    </tr>\n",
       "    <tr>\n",
       "      <th>37358</th>\n",
       "      <td>2022-02-09</td>\n",
       "      <td>DPZ</td>\n",
       "      <td>Consumer Services</td>\n",
       "      <td>F05QG0-R</td>\n",
       "      <td>0.697741</td>\n",
       "      <td>2022</td>\n",
       "      <td>02</td>\n",
       "      <td>09</td>\n",
       "    </tr>\n",
       "    <tr>\n",
       "      <th>37359</th>\n",
       "      <td>2022-02-09</td>\n",
       "      <td>LIFZF</td>\n",
       "      <td>Non-Energy Minerals</td>\n",
       "      <td>Q404Y1-R</td>\n",
       "      <td>0.695644</td>\n",
       "      <td>2022</td>\n",
       "      <td>02</td>\n",
       "      <td>09</td>\n",
       "    </tr>\n",
       "  </tbody>\n",
       "</table>\n",
       "<p>37360 rows × 8 columns</p>\n",
       "</div>"
      ],
      "text/plain": [
       "             date symbol                       4         5         6  year  \\\n",
       "0      2004-02-11     SU         Energy Minerals  GN63J3-R  0.953727  2004   \n",
       "1      2004-02-11    GGG  Producer Manufacturing  H5490W-R  0.952753  2004   \n",
       "2      2004-02-11    WGR         Energy Minerals  V0622Q-R  0.947634  2004   \n",
       "3      2004-02-11    CWT               Utilities  GSWXLY-R  0.934181  2004   \n",
       "4      2004-02-11    BLL      Process Industries  VFT0VQ-R  0.922862  2004   \n",
       "...           ...    ...                     ...       ...       ...   ...   \n",
       "37355  2022-02-09    PEP   Consumer Non-Durables  PPCTFP-R  0.701507  2022   \n",
       "37356  2022-02-09   SSNC     Technology Services  G92RX2-R  0.701123  2022   \n",
       "37357  2022-02-09    GEF      Process Industries  MPX0N4-R  0.697954  2022   \n",
       "37358  2022-02-09    DPZ       Consumer Services  F05QG0-R  0.697741  2022   \n",
       "37359  2022-02-09  LIFZF     Non-Energy Minerals  Q404Y1-R  0.695644  2022   \n",
       "\n",
       "      month day  \n",
       "0        02  11  \n",
       "1        02  11  \n",
       "2        02  11  \n",
       "3        02  11  \n",
       "4        02  11  \n",
       "...     ...  ..  \n",
       "37355    02  09  \n",
       "37356    02  09  \n",
       "37357    02  09  \n",
       "37358    02  09  \n",
       "37359    02  09  \n",
       "\n",
       "[37360 rows x 8 columns]"
      ]
     },
     "execution_count": 20,
     "metadata": {},
     "output_type": "execute_result"
    }
   ],
   "source": [
    "data = data.drop(3, axis=1)\n",
    "data = data.rename({2: \"symbol\"}, axis=1)\n",
    "data"
   ]
  },
  {
   "cell_type": "markdown",
   "metadata": {},
   "source": [
    "## 4 column"
   ]
  },
  {
   "cell_type": "code",
   "execution_count": 21,
   "metadata": {},
   "outputs": [
    {
     "name": "stdout",
     "output_type": "stream",
     "text": [
      "20\n"
     ]
    },
    {
     "data": {
      "text/plain": [
       "['Energy Minerals',\n",
       " 'Producer Manufacturing',\n",
       " 'Utilities',\n",
       " 'Process Industries',\n",
       " 'Consumer Services',\n",
       " 'Transportation',\n",
       " 'Retail Trade',\n",
       " 'Finance',\n",
       " 'Health Technology',\n",
       " 'Miscellaneous',\n",
       " 'Non-Energy Minerals',\n",
       " 'Distribution Services',\n",
       " 'Consumer Non-Durables',\n",
       " 'Commercial Services',\n",
       " 'Technology Services',\n",
       " 'Consumer Durables',\n",
       " 'Health Services',\n",
       " 'Electronic Technology',\n",
       " 'Industrial Services',\n",
       " 'Communications']"
      ]
     },
     "execution_count": 21,
     "metadata": {},
     "output_type": "execute_result"
    }
   ],
   "source": [
    "print(len(data[4].unique()))\n",
    "list(data[4].unique())"
   ]
  },
  {
   "cell_type": "markdown",
   "metadata": {},
   "source": [
    "There are 20 distinct branches, let's change column name and see some conditional probability distributions again using boxplots and violing plots as well"
   ]
  },
  {
   "cell_type": "code",
   "execution_count": 22,
   "metadata": {},
   "outputs": [
    {
     "data": {
      "image/png": "[encoded data removed]",
      "text/plain": [
       "<Figure size 432x288 with 1 Axes>"
      ]
     },
     "metadata": {
      "needs_background": "light"
     },
     "output_type": "display_data"
    },
    {
     "name": "stderr",
     "output_type": "stream",
     "text": [
      "c:\\Users\\Jacek\\VSCodeProjects\\ML_finance\\.venv\\lib\\site-packages\\seaborn\\_decorators.py:36: FutureWarning: Pass the following variables as keyword args: x, y. From version 0.12, the only valid positional argument will be `data`, and passing other arguments without an explicit keyword will result in an error or misinterpretation.\n",
      "  warnings.warn(\n"
     ]
    },
    {
     "data": {
      "image/png": "[encoded data removed]",
      "text/plain": [
       "<Figure size 1440x576 with 1 Axes>"
      ]
     },
     "metadata": {
      "needs_background": "light"
     },
     "output_type": "display_data"
    }
   ],
   "source": [
    "data = data.rename({4: \"econ_branch\"}, axis=1)\n",
    "\n",
    "data.boxplot(column=6, by=\"econ_branch\")\n",
    "plt.rcParams[\"figure.figsize\"] = (20,8)\n",
    "plt.xticks(rotation = -45, ha='left')\n",
    "plt.show()\n",
    "\n",
    "fig, ax = plt.subplots(figsize=(20,8))\n",
    "ax = sns.violinplot(data[\"econ_branch\"], data[6])\n",
    "plt.xticks(rotation = -45, ha='left')\n",
    "plt.show()"
   ]
  },
  {
   "cell_type": "markdown",
   "metadata": {},
   "source": [
    "Overall no huge differences between different branches of the economy, Miscellaneous category seems like the biggest outlier, seems to be a small subdataset, let's explore further and check if we want to remove those observations"
   ]
  },
  {
   "cell_type": "code",
   "execution_count": 23,
   "metadata": {},
   "outputs": [
    {
     "data": {
      "text/html": [
       "<div>\n",
       "<style scoped>\n",
       "    .dataframe tbody tr th:only-of-type {\n",
       "        vertical-align: middle;\n",
       "    }\n",
       "\n",
       "    .dataframe tbody tr th {\n",
       "        vertical-align: top;\n",
       "    }\n",
       "\n",
       "    .dataframe thead th {\n",
       "        text-align: right;\n",
       "    }\n",
       "</style>\n",
       "<table border=\"1\" class=\"dataframe\">\n",
       "  <thead>\n",
       "    <tr style=\"text-align: right;\">\n",
       "      <th></th>\n",
       "      <th>date</th>\n",
       "      <th>symbol</th>\n",
       "      <th>econ_branch</th>\n",
       "      <th>5</th>\n",
       "      <th>6</th>\n",
       "      <th>year</th>\n",
       "      <th>month</th>\n",
       "      <th>day</th>\n",
       "    </tr>\n",
       "  </thead>\n",
       "  <tbody>\n",
       "    <tr>\n",
       "      <th>15</th>\n",
       "      <td>2004-02-11</td>\n",
       "      <td>HGTXU</td>\n",
       "      <td>Miscellaneous</td>\n",
       "      <td>MMMNG3-R</td>\n",
       "      <td>0.834775</td>\n",
       "      <td>2004</td>\n",
       "      <td>02</td>\n",
       "      <td>11</td>\n",
       "    </tr>\n",
       "    <tr>\n",
       "      <th>45</th>\n",
       "      <td>2004-02-11</td>\n",
       "      <td>SJT</td>\n",
       "      <td>Miscellaneous</td>\n",
       "      <td>DLRTBS-R</td>\n",
       "      <td>0.738945</td>\n",
       "      <td>2004</td>\n",
       "      <td>02</td>\n",
       "      <td>11</td>\n",
       "    </tr>\n",
       "    <tr>\n",
       "      <th>99</th>\n",
       "      <td>2004-02-25</td>\n",
       "      <td>HGTXU</td>\n",
       "      <td>Miscellaneous</td>\n",
       "      <td>MMMNG3-R</td>\n",
       "      <td>0.811405</td>\n",
       "      <td>2004</td>\n",
       "      <td>02</td>\n",
       "      <td>25</td>\n",
       "    </tr>\n",
       "    <tr>\n",
       "      <th>125</th>\n",
       "      <td>2004-02-25</td>\n",
       "      <td>SJT</td>\n",
       "      <td>Miscellaneous</td>\n",
       "      <td>DLRTBS-R</td>\n",
       "      <td>0.733261</td>\n",
       "      <td>2004</td>\n",
       "      <td>02</td>\n",
       "      <td>25</td>\n",
       "    </tr>\n",
       "    <tr>\n",
       "      <th>212</th>\n",
       "      <td>2004-03-10</td>\n",
       "      <td>HGTXU</td>\n",
       "      <td>Miscellaneous</td>\n",
       "      <td>MMMNG3-R</td>\n",
       "      <td>0.736554</td>\n",
       "      <td>2004</td>\n",
       "      <td>03</td>\n",
       "      <td>10</td>\n",
       "    </tr>\n",
       "  </tbody>\n",
       "</table>\n",
       "</div>"
      ],
      "text/plain": [
       "           date symbol    econ_branch         5         6  year month day\n",
       "15   2004-02-11  HGTXU  Miscellaneous  MMMNG3-R  0.834775  2004    02  11\n",
       "45   2004-02-11    SJT  Miscellaneous  DLRTBS-R  0.738945  2004    02  11\n",
       "99   2004-02-25  HGTXU  Miscellaneous  MMMNG3-R  0.811405  2004    02  25\n",
       "125  2004-02-25    SJT  Miscellaneous  DLRTBS-R  0.733261  2004    02  25\n",
       "212  2004-03-10  HGTXU  Miscellaneous  MMMNG3-R  0.736554  2004    03  10"
      ]
     },
     "execution_count": 23,
     "metadata": {},
     "output_type": "execute_result"
    }
   ],
   "source": [
    "misc = data[data[\"econ_branch\"]==\"Miscellaneous\"]\n",
    "misc.head()"
   ]
  },
  {
   "cell_type": "code",
   "execution_count": 24,
   "metadata": {},
   "outputs": [
    {
     "data": {
      "text/plain": [
       "{'BPT', 'CGIFF', 'HGTXU', 'PBT', 'SJT', 'TPL'}"
      ]
     },
     "execution_count": 24,
     "metadata": {},
     "output_type": "execute_result"
    }
   ],
   "source": [
    "set(misc[\"symbol\"])"
   ]
  },
  {
   "cell_type": "markdown",
   "metadata": {},
   "source": [
    "Only 6 companies, seems like a good idea to remove those as they are hard to classify and not your typical companies, they could confuse the models we're going to build"
   ]
  },
  {
   "cell_type": "code",
   "execution_count": 25,
   "metadata": {},
   "outputs": [
    {
     "data": {
      "text/html": [
       "<div>\n",
       "<style scoped>\n",
       "    .dataframe tbody tr th:only-of-type {\n",
       "        vertical-align: middle;\n",
       "    }\n",
       "\n",
       "    .dataframe tbody tr th {\n",
       "        vertical-align: top;\n",
       "    }\n",
       "\n",
       "    .dataframe thead th {\n",
       "        text-align: right;\n",
       "    }\n",
       "</style>\n",
       "<table border=\"1\" class=\"dataframe\">\n",
       "  <thead>\n",
       "    <tr style=\"text-align: right;\">\n",
       "      <th></th>\n",
       "      <th>date</th>\n",
       "      <th>symbol</th>\n",
       "      <th>econ_branch</th>\n",
       "      <th>5</th>\n",
       "      <th>6</th>\n",
       "      <th>year</th>\n",
       "      <th>month</th>\n",
       "      <th>day</th>\n",
       "    </tr>\n",
       "  </thead>\n",
       "  <tbody>\n",
       "    <tr>\n",
       "      <th>0</th>\n",
       "      <td>2004-02-11</td>\n",
       "      <td>SU</td>\n",
       "      <td>Energy Minerals</td>\n",
       "      <td>GN63J3-R</td>\n",
       "      <td>0.953727</td>\n",
       "      <td>2004</td>\n",
       "      <td>02</td>\n",
       "      <td>11</td>\n",
       "    </tr>\n",
       "    <tr>\n",
       "      <th>1</th>\n",
       "      <td>2004-02-11</td>\n",
       "      <td>GGG</td>\n",
       "      <td>Producer Manufacturing</td>\n",
       "      <td>H5490W-R</td>\n",
       "      <td>0.952753</td>\n",
       "      <td>2004</td>\n",
       "      <td>02</td>\n",
       "      <td>11</td>\n",
       "    </tr>\n",
       "    <tr>\n",
       "      <th>2</th>\n",
       "      <td>2004-02-11</td>\n",
       "      <td>WGR</td>\n",
       "      <td>Energy Minerals</td>\n",
       "      <td>V0622Q-R</td>\n",
       "      <td>0.947634</td>\n",
       "      <td>2004</td>\n",
       "      <td>02</td>\n",
       "      <td>11</td>\n",
       "    </tr>\n",
       "    <tr>\n",
       "      <th>3</th>\n",
       "      <td>2004-02-11</td>\n",
       "      <td>CWT</td>\n",
       "      <td>Utilities</td>\n",
       "      <td>GSWXLY-R</td>\n",
       "      <td>0.934181</td>\n",
       "      <td>2004</td>\n",
       "      <td>02</td>\n",
       "      <td>11</td>\n",
       "    </tr>\n",
       "    <tr>\n",
       "      <th>4</th>\n",
       "      <td>2004-02-11</td>\n",
       "      <td>BLL</td>\n",
       "      <td>Process Industries</td>\n",
       "      <td>VFT0VQ-R</td>\n",
       "      <td>0.922862</td>\n",
       "      <td>2004</td>\n",
       "      <td>02</td>\n",
       "      <td>11</td>\n",
       "    </tr>\n",
       "  </tbody>\n",
       "</table>\n",
       "</div>"
      ],
      "text/plain": [
       "         date symbol             econ_branch         5         6  year month  \\\n",
       "0  2004-02-11     SU         Energy Minerals  GN63J3-R  0.953727  2004    02   \n",
       "1  2004-02-11    GGG  Producer Manufacturing  H5490W-R  0.952753  2004    02   \n",
       "2  2004-02-11    WGR         Energy Minerals  V0622Q-R  0.947634  2004    02   \n",
       "3  2004-02-11    CWT               Utilities  GSWXLY-R  0.934181  2004    02   \n",
       "4  2004-02-11    BLL      Process Industries  VFT0VQ-R  0.922862  2004    02   \n",
       "\n",
       "  day  \n",
       "0  11  \n",
       "1  11  \n",
       "2  11  \n",
       "3  11  \n",
       "4  11  "
      ]
     },
     "execution_count": 25,
     "metadata": {},
     "output_type": "execute_result"
    }
   ],
   "source": [
    "data = data[data[\"econ_branch\"]!=\"Miscellaneous\"]\n",
    "data.head()"
   ]
  },
  {
   "cell_type": "markdown",
   "metadata": {},
   "source": [
    "## 5 column"
   ]
  },
  {
   "cell_type": "markdown",
   "metadata": {},
   "source": [
    "First assumption - column symbol and column 5 mean the same but are different, let's check if for each symbol there is only 1 corresponding value from column 5"
   ]
  },
  {
   "cell_type": "code",
   "execution_count": 26,
   "metadata": {},
   "outputs": [
    {
     "data": {
      "text/plain": [
       "True"
      ]
     },
     "execution_count": 26,
     "metadata": {},
     "output_type": "execute_result"
    }
   ],
   "source": [
    "# Let's collect all of the possible values of column 5 grouped by symbol\n",
    "unique_5_for_symbol =  data[[\"symbol\", 5]].groupby(\"symbol\")[5].apply(set)\n",
    "# Size of the set of all values of column 5 for a given symbol (we hope all are 1)\n",
    "size_of_unique_5_for_symbol = unique_5_for_symbol.apply(len)\n",
    "# Check if all length are equal to 1\n",
    "size_of_unique_5_for_symbol.apply(lambda x: x==1).all()"
   ]
  },
  {
   "cell_type": "markdown",
   "metadata": {},
   "source": [
    "Yes, column 5 can be mapped 1-1 to column symbol, let's get rid of it"
   ]
  },
  {
   "cell_type": "code",
   "execution_count": 27,
   "metadata": {},
   "outputs": [
    {
     "data": {
      "text/html": [
       "<div>\n",
       "<style scoped>\n",
       "    .dataframe tbody tr th:only-of-type {\n",
       "        vertical-align: middle;\n",
       "    }\n",
       "\n",
       "    .dataframe tbody tr th {\n",
       "        vertical-align: top;\n",
       "    }\n",
       "\n",
       "    .dataframe thead th {\n",
       "        text-align: right;\n",
       "    }\n",
       "</style>\n",
       "<table border=\"1\" class=\"dataframe\">\n",
       "  <thead>\n",
       "    <tr style=\"text-align: right;\">\n",
       "      <th></th>\n",
       "      <th>date</th>\n",
       "      <th>symbol</th>\n",
       "      <th>econ_branch</th>\n",
       "      <th>6</th>\n",
       "      <th>year</th>\n",
       "      <th>month</th>\n",
       "      <th>day</th>\n",
       "    </tr>\n",
       "  </thead>\n",
       "  <tbody>\n",
       "    <tr>\n",
       "      <th>0</th>\n",
       "      <td>2004-02-11</td>\n",
       "      <td>SU</td>\n",
       "      <td>Energy Minerals</td>\n",
       "      <td>0.953727</td>\n",
       "      <td>2004</td>\n",
       "      <td>02</td>\n",
       "      <td>11</td>\n",
       "    </tr>\n",
       "    <tr>\n",
       "      <th>1</th>\n",
       "      <td>2004-02-11</td>\n",
       "      <td>GGG</td>\n",
       "      <td>Producer Manufacturing</td>\n",
       "      <td>0.952753</td>\n",
       "      <td>2004</td>\n",
       "      <td>02</td>\n",
       "      <td>11</td>\n",
       "    </tr>\n",
       "    <tr>\n",
       "      <th>2</th>\n",
       "      <td>2004-02-11</td>\n",
       "      <td>WGR</td>\n",
       "      <td>Energy Minerals</td>\n",
       "      <td>0.947634</td>\n",
       "      <td>2004</td>\n",
       "      <td>02</td>\n",
       "      <td>11</td>\n",
       "    </tr>\n",
       "    <tr>\n",
       "      <th>3</th>\n",
       "      <td>2004-02-11</td>\n",
       "      <td>CWT</td>\n",
       "      <td>Utilities</td>\n",
       "      <td>0.934181</td>\n",
       "      <td>2004</td>\n",
       "      <td>02</td>\n",
       "      <td>11</td>\n",
       "    </tr>\n",
       "    <tr>\n",
       "      <th>4</th>\n",
       "      <td>2004-02-11</td>\n",
       "      <td>BLL</td>\n",
       "      <td>Process Industries</td>\n",
       "      <td>0.922862</td>\n",
       "      <td>2004</td>\n",
       "      <td>02</td>\n",
       "      <td>11</td>\n",
       "    </tr>\n",
       "  </tbody>\n",
       "</table>\n",
       "</div>"
      ],
      "text/plain": [
       "         date symbol             econ_branch         6  year month day\n",
       "0  2004-02-11     SU         Energy Minerals  0.953727  2004    02  11\n",
       "1  2004-02-11    GGG  Producer Manufacturing  0.952753  2004    02  11\n",
       "2  2004-02-11    WGR         Energy Minerals  0.947634  2004    02  11\n",
       "3  2004-02-11    CWT               Utilities  0.934181  2004    02  11\n",
       "4  2004-02-11    BLL      Process Industries  0.922862  2004    02  11"
      ]
     },
     "execution_count": 27,
     "metadata": {},
     "output_type": "execute_result"
    }
   ],
   "source": [
    "data = data.drop(5, axis=1)\n",
    "data.head()"
   ]
  },
  {
   "cell_type": "markdown",
   "metadata": {},
   "source": [
    "## 6 column"
   ]
  },
  {
   "cell_type": "markdown",
   "metadata": {},
   "source": [
    "We're sure we don't want to remove this column but let's explore it"
   ]
  },
  {
   "cell_type": "code",
   "execution_count": 28,
   "metadata": {},
   "outputs": [
    {
     "data": {
      "text/plain": [
       "0        0.953727\n",
       "1        0.952753\n",
       "2        0.947634\n",
       "3        0.934181\n",
       "4        0.922862\n",
       "           ...   \n",
       "37355    0.701507\n",
       "37356    0.701123\n",
       "37357    0.697954\n",
       "37358    0.697741\n",
       "37359    0.695644\n",
       "Name: 6, Length: 37295, dtype: float64"
      ]
     },
     "execution_count": 28,
     "metadata": {},
     "output_type": "execute_result"
    }
   ],
   "source": [
    "target = copy.deepcopy(data[6])\n",
    "target"
   ]
  },
  {
   "cell_type": "code",
   "execution_count": 29,
   "metadata": {},
   "outputs": [
    {
     "data": {
      "text/plain": [
       "<matplotlib.collections.PathCollection at 0x255e638ebe0>"
      ]
     },
     "execution_count": 29,
     "metadata": {},
     "output_type": "execute_result"
    },
    {
     "data": {
      "image/png": "[encoded data removed]",
      "text/plain": [
       "<Figure size 1440x576 with 1 Axes>"
      ]
     },
     "metadata": {
      "needs_background": "light"
     },
     "output_type": "display_data"
    }
   ],
   "source": [
    "plt.scatter(range(len(target)), target)"
   ]
  },
  {
   "cell_type": "markdown",
   "metadata": {},
   "source": [
    "What we see is similar to the boxplot splitting by year, convictions for the most part lie between 0.65 and 1, with years 2007-2009 and 2019-2020 being significantly lower, falling into range of between 0.4 and 0.65. 2016-2018 is between 0.6 and 0.9, but the densest closer to 0.6"
   ]
  },
  {
   "cell_type": "markdown",
   "metadata": {},
   "source": [
    "Thinking ahead here there is a decision to be made: \n",
    "\n",
    "a) Split the data into two subsets - regular economic situation, so years 2004-2006, 2010-2018 and 2021-2022; and recession subset: 2007-2009 and 2019-2020. Train two different models, use the proper one depending on the judgement if the economy is healthy or in recession\n",
    "\n",
    "b) Leave the dataset as is and train the model on whole dataset\n",
    "\n",
    "For now I'd reccomend leaving the dataset as is, but let's keep option a) in mind for the future"
   ]
  },
  {
   "cell_type": "code",
   "execution_count": 30,
   "metadata": {},
   "outputs": [
    {
     "data": {
      "text/html": [
       "<div>\n",
       "<style scoped>\n",
       "    .dataframe tbody tr th:only-of-type {\n",
       "        vertical-align: middle;\n",
       "    }\n",
       "\n",
       "    .dataframe tbody tr th {\n",
       "        vertical-align: top;\n",
       "    }\n",
       "\n",
       "    .dataframe thead th {\n",
       "        text-align: right;\n",
       "    }\n",
       "</style>\n",
       "<table border=\"1\" class=\"dataframe\">\n",
       "  <thead>\n",
       "    <tr style=\"text-align: right;\">\n",
       "      <th></th>\n",
       "      <th>date</th>\n",
       "      <th>symbol</th>\n",
       "      <th>econ_branch</th>\n",
       "      <th>score</th>\n",
       "      <th>year</th>\n",
       "      <th>month</th>\n",
       "      <th>day</th>\n",
       "    </tr>\n",
       "  </thead>\n",
       "  <tbody>\n",
       "    <tr>\n",
       "      <th>0</th>\n",
       "      <td>2004-02-11</td>\n",
       "      <td>SU</td>\n",
       "      <td>Energy Minerals</td>\n",
       "      <td>0.953727</td>\n",
       "      <td>2004</td>\n",
       "      <td>02</td>\n",
       "      <td>11</td>\n",
       "    </tr>\n",
       "    <tr>\n",
       "      <th>1</th>\n",
       "      <td>2004-02-11</td>\n",
       "      <td>GGG</td>\n",
       "      <td>Producer Manufacturing</td>\n",
       "      <td>0.952753</td>\n",
       "      <td>2004</td>\n",
       "      <td>02</td>\n",
       "      <td>11</td>\n",
       "    </tr>\n",
       "    <tr>\n",
       "      <th>2</th>\n",
       "      <td>2004-02-11</td>\n",
       "      <td>WGR</td>\n",
       "      <td>Energy Minerals</td>\n",
       "      <td>0.947634</td>\n",
       "      <td>2004</td>\n",
       "      <td>02</td>\n",
       "      <td>11</td>\n",
       "    </tr>\n",
       "    <tr>\n",
       "      <th>3</th>\n",
       "      <td>2004-02-11</td>\n",
       "      <td>CWT</td>\n",
       "      <td>Utilities</td>\n",
       "      <td>0.934181</td>\n",
       "      <td>2004</td>\n",
       "      <td>02</td>\n",
       "      <td>11</td>\n",
       "    </tr>\n",
       "    <tr>\n",
       "      <th>4</th>\n",
       "      <td>2004-02-11</td>\n",
       "      <td>BLL</td>\n",
       "      <td>Process Industries</td>\n",
       "      <td>0.922862</td>\n",
       "      <td>2004</td>\n",
       "      <td>02</td>\n",
       "      <td>11</td>\n",
       "    </tr>\n",
       "  </tbody>\n",
       "</table>\n",
       "</div>"
      ],
      "text/plain": [
       "         date symbol             econ_branch     score  year month day\n",
       "0  2004-02-11     SU         Energy Minerals  0.953727  2004    02  11\n",
       "1  2004-02-11    GGG  Producer Manufacturing  0.952753  2004    02  11\n",
       "2  2004-02-11    WGR         Energy Minerals  0.947634  2004    02  11\n",
       "3  2004-02-11    CWT               Utilities  0.934181  2004    02  11\n",
       "4  2004-02-11    BLL      Process Industries  0.922862  2004    02  11"
      ]
     },
     "execution_count": 30,
     "metadata": {},
     "output_type": "execute_result"
    }
   ],
   "source": [
    "data = data.rename({6: \"score\"}, axis=1)\n",
    "data.head()"
   ]
  },
  {
   "cell_type": "markdown",
   "metadata": {},
   "source": [
    "## In the end we have the following dataset:"
   ]
  },
  {
   "cell_type": "code",
   "execution_count": 31,
   "metadata": {},
   "outputs": [
    {
     "data": {
      "text/html": [
       "<div>\n",
       "<style scoped>\n",
       "    .dataframe tbody tr th:only-of-type {\n",
       "        vertical-align: middle;\n",
       "    }\n",
       "\n",
       "    .dataframe tbody tr th {\n",
       "        vertical-align: top;\n",
       "    }\n",
       "\n",
       "    .dataframe thead th {\n",
       "        text-align: right;\n",
       "    }\n",
       "</style>\n",
       "<table border=\"1\" class=\"dataframe\">\n",
       "  <thead>\n",
       "    <tr style=\"text-align: right;\">\n",
       "      <th></th>\n",
       "      <th>date</th>\n",
       "      <th>symbol</th>\n",
       "      <th>econ_branch</th>\n",
       "      <th>score</th>\n",
       "      <th>year</th>\n",
       "      <th>month</th>\n",
       "      <th>day</th>\n",
       "    </tr>\n",
       "  </thead>\n",
       "  <tbody>\n",
       "    <tr>\n",
       "      <th>0</th>\n",
       "      <td>2004-02-11</td>\n",
       "      <td>SU</td>\n",
       "      <td>Energy Minerals</td>\n",
       "      <td>0.953727</td>\n",
       "      <td>2004</td>\n",
       "      <td>02</td>\n",
       "      <td>11</td>\n",
       "    </tr>\n",
       "    <tr>\n",
       "      <th>1</th>\n",
       "      <td>2004-02-11</td>\n",
       "      <td>GGG</td>\n",
       "      <td>Producer Manufacturing</td>\n",
       "      <td>0.952753</td>\n",
       "      <td>2004</td>\n",
       "      <td>02</td>\n",
       "      <td>11</td>\n",
       "    </tr>\n",
       "    <tr>\n",
       "      <th>2</th>\n",
       "      <td>2004-02-11</td>\n",
       "      <td>WGR</td>\n",
       "      <td>Energy Minerals</td>\n",
       "      <td>0.947634</td>\n",
       "      <td>2004</td>\n",
       "      <td>02</td>\n",
       "      <td>11</td>\n",
       "    </tr>\n",
       "    <tr>\n",
       "      <th>3</th>\n",
       "      <td>2004-02-11</td>\n",
       "      <td>CWT</td>\n",
       "      <td>Utilities</td>\n",
       "      <td>0.934181</td>\n",
       "      <td>2004</td>\n",
       "      <td>02</td>\n",
       "      <td>11</td>\n",
       "    </tr>\n",
       "    <tr>\n",
       "      <th>4</th>\n",
       "      <td>2004-02-11</td>\n",
       "      <td>BLL</td>\n",
       "      <td>Process Industries</td>\n",
       "      <td>0.922862</td>\n",
       "      <td>2004</td>\n",
       "      <td>02</td>\n",
       "      <td>11</td>\n",
       "    </tr>\n",
       "    <tr>\n",
       "      <th>...</th>\n",
       "      <td>...</td>\n",
       "      <td>...</td>\n",
       "      <td>...</td>\n",
       "      <td>...</td>\n",
       "      <td>...</td>\n",
       "      <td>...</td>\n",
       "      <td>...</td>\n",
       "    </tr>\n",
       "    <tr>\n",
       "      <th>37355</th>\n",
       "      <td>2022-02-09</td>\n",
       "      <td>PEP</td>\n",
       "      <td>Consumer Non-Durables</td>\n",
       "      <td>0.701507</td>\n",
       "      <td>2022</td>\n",
       "      <td>02</td>\n",
       "      <td>09</td>\n",
       "    </tr>\n",
       "    <tr>\n",
       "      <th>37356</th>\n",
       "      <td>2022-02-09</td>\n",
       "      <td>SSNC</td>\n",
       "      <td>Technology Services</td>\n",
       "      <td>0.701123</td>\n",
       "      <td>2022</td>\n",
       "      <td>02</td>\n",
       "      <td>09</td>\n",
       "    </tr>\n",
       "    <tr>\n",
       "      <th>37357</th>\n",
       "      <td>2022-02-09</td>\n",
       "      <td>GEF</td>\n",
       "      <td>Process Industries</td>\n",
       "      <td>0.697954</td>\n",
       "      <td>2022</td>\n",
       "      <td>02</td>\n",
       "      <td>09</td>\n",
       "    </tr>\n",
       "    <tr>\n",
       "      <th>37358</th>\n",
       "      <td>2022-02-09</td>\n",
       "      <td>DPZ</td>\n",
       "      <td>Consumer Services</td>\n",
       "      <td>0.697741</td>\n",
       "      <td>2022</td>\n",
       "      <td>02</td>\n",
       "      <td>09</td>\n",
       "    </tr>\n",
       "    <tr>\n",
       "      <th>37359</th>\n",
       "      <td>2022-02-09</td>\n",
       "      <td>LIFZF</td>\n",
       "      <td>Non-Energy Minerals</td>\n",
       "      <td>0.695644</td>\n",
       "      <td>2022</td>\n",
       "      <td>02</td>\n",
       "      <td>09</td>\n",
       "    </tr>\n",
       "  </tbody>\n",
       "</table>\n",
       "<p>37295 rows × 7 columns</p>\n",
       "</div>"
      ],
      "text/plain": [
       "             date symbol             econ_branch     score  year month day\n",
       "0      2004-02-11     SU         Energy Minerals  0.953727  2004    02  11\n",
       "1      2004-02-11    GGG  Producer Manufacturing  0.952753  2004    02  11\n",
       "2      2004-02-11    WGR         Energy Minerals  0.947634  2004    02  11\n",
       "3      2004-02-11    CWT               Utilities  0.934181  2004    02  11\n",
       "4      2004-02-11    BLL      Process Industries  0.922862  2004    02  11\n",
       "...           ...    ...                     ...       ...   ...   ...  ..\n",
       "37355  2022-02-09    PEP   Consumer Non-Durables  0.701507  2022    02  09\n",
       "37356  2022-02-09   SSNC     Technology Services  0.701123  2022    02  09\n",
       "37357  2022-02-09    GEF      Process Industries  0.697954  2022    02  09\n",
       "37358  2022-02-09    DPZ       Consumer Services  0.697741  2022    02  09\n",
       "37359  2022-02-09  LIFZF     Non-Energy Minerals  0.695644  2022    02  09\n",
       "\n",
       "[37295 rows x 7 columns]"
      ]
     },
     "execution_count": 31,
     "metadata": {},
     "output_type": "execute_result"
    }
   ],
   "source": [
    "data"
   ]
  },
  {
   "cell_type": "markdown",
   "metadata": {},
   "source": [
    "Columns detail:\n",
    "\n",
    "symbol - symbol of the company\n",
    "\n",
    "econ_branch - branch of the economy that the company is operating under\n",
    "\n",
    "score - conviction score (target variable)\n",
    "\n",
    "date, year, month, day - date of the observed conviction"
   ]
  },
  {
   "cell_type": "markdown",
   "metadata": {},
   "source": [
    "## Further exploration"
   ]
  },
  {
   "cell_type": "markdown",
   "metadata": {},
   "source": [
    "Let's finally see how conviction scores aggregated on the level of a company look like\n",
    "\n",
    "5 random companies\n",
    "\n",
    "5 companies with lowest scores\n",
    "\n",
    "5 with highest scores"
   ]
  },
  {
   "cell_type": "code",
   "execution_count": 32,
   "metadata": {},
   "outputs": [
    {
     "name": "stdout",
     "output_type": "stream",
     "text": [
      "['SCLN', 'SPG', 'GDOT', 'EIFZF', 'AAPL'] ['BDG.A', 'GOOG', 'WGR', 'AVGO', 'CDX.XX1'] ['AMIVF', 'IONS', 'HOTT', 'ABM', 'JBT']\n"
     ]
    }
   ],
   "source": [
    "# companies = list(data[\"symbol\"].unique())\n",
    "companies = data.groupby(\"symbol\").mean().sort_values(by=\"score\")\n",
    "random_companies = random.choices(companies.index, k=5)\n",
    "best_companies = list(companies.tail().index)\n",
    "worst_companies = list(companies.head().index)\n",
    "print(random_companies, best_companies, worst_companies)"
   ]
  },
  {
   "cell_type": "code",
   "execution_count": 33,
   "metadata": {},
   "outputs": [
    {
     "data": {
      "text/html": [
       "<div>\n",
       "<style scoped>\n",
       "    .dataframe tbody tr th:only-of-type {\n",
       "        vertical-align: middle;\n",
       "    }\n",
       "\n",
       "    .dataframe tbody tr th {\n",
       "        vertical-align: top;\n",
       "    }\n",
       "\n",
       "    .dataframe thead th {\n",
       "        text-align: right;\n",
       "    }\n",
       "</style>\n",
       "<table border=\"1\" class=\"dataframe\">\n",
       "  <thead>\n",
       "    <tr style=\"text-align: right;\">\n",
       "      <th></th>\n",
       "      <th>date</th>\n",
       "      <th>symbol</th>\n",
       "      <th>econ_branch</th>\n",
       "      <th>score</th>\n",
       "      <th>year</th>\n",
       "      <th>month</th>\n",
       "      <th>day</th>\n",
       "    </tr>\n",
       "  </thead>\n",
       "  <tbody>\n",
       "    <tr>\n",
       "      <th>0</th>\n",
       "      <td>2004-02-11</td>\n",
       "      <td>SU</td>\n",
       "      <td>Energy Minerals</td>\n",
       "      <td>0.953727</td>\n",
       "      <td>2004</td>\n",
       "      <td>02</td>\n",
       "      <td>11</td>\n",
       "    </tr>\n",
       "    <tr>\n",
       "      <th>1</th>\n",
       "      <td>2004-02-11</td>\n",
       "      <td>GGG</td>\n",
       "      <td>Producer Manufacturing</td>\n",
       "      <td>0.952753</td>\n",
       "      <td>2004</td>\n",
       "      <td>02</td>\n",
       "      <td>11</td>\n",
       "    </tr>\n",
       "    <tr>\n",
       "      <th>2</th>\n",
       "      <td>2004-02-11</td>\n",
       "      <td>WGR</td>\n",
       "      <td>Energy Minerals</td>\n",
       "      <td>0.947634</td>\n",
       "      <td>2004</td>\n",
       "      <td>02</td>\n",
       "      <td>11</td>\n",
       "    </tr>\n",
       "    <tr>\n",
       "      <th>3</th>\n",
       "      <td>2004-02-11</td>\n",
       "      <td>CWT</td>\n",
       "      <td>Utilities</td>\n",
       "      <td>0.934181</td>\n",
       "      <td>2004</td>\n",
       "      <td>02</td>\n",
       "      <td>11</td>\n",
       "    </tr>\n",
       "    <tr>\n",
       "      <th>4</th>\n",
       "      <td>2004-02-11</td>\n",
       "      <td>BLL</td>\n",
       "      <td>Process Industries</td>\n",
       "      <td>0.922862</td>\n",
       "      <td>2004</td>\n",
       "      <td>02</td>\n",
       "      <td>11</td>\n",
       "    </tr>\n",
       "    <tr>\n",
       "      <th>...</th>\n",
       "      <td>...</td>\n",
       "      <td>...</td>\n",
       "      <td>...</td>\n",
       "      <td>...</td>\n",
       "      <td>...</td>\n",
       "      <td>...</td>\n",
       "      <td>...</td>\n",
       "    </tr>\n",
       "    <tr>\n",
       "      <th>37355</th>\n",
       "      <td>2022-02-09</td>\n",
       "      <td>PEP</td>\n",
       "      <td>Consumer Non-Durables</td>\n",
       "      <td>0.701507</td>\n",
       "      <td>2022</td>\n",
       "      <td>02</td>\n",
       "      <td>09</td>\n",
       "    </tr>\n",
       "    <tr>\n",
       "      <th>37356</th>\n",
       "      <td>2022-02-09</td>\n",
       "      <td>SSNC</td>\n",
       "      <td>Technology Services</td>\n",
       "      <td>0.701123</td>\n",
       "      <td>2022</td>\n",
       "      <td>02</td>\n",
       "      <td>09</td>\n",
       "    </tr>\n",
       "    <tr>\n",
       "      <th>37357</th>\n",
       "      <td>2022-02-09</td>\n",
       "      <td>GEF</td>\n",
       "      <td>Process Industries</td>\n",
       "      <td>0.697954</td>\n",
       "      <td>2022</td>\n",
       "      <td>02</td>\n",
       "      <td>09</td>\n",
       "    </tr>\n",
       "    <tr>\n",
       "      <th>37358</th>\n",
       "      <td>2022-02-09</td>\n",
       "      <td>DPZ</td>\n",
       "      <td>Consumer Services</td>\n",
       "      <td>0.697741</td>\n",
       "      <td>2022</td>\n",
       "      <td>02</td>\n",
       "      <td>09</td>\n",
       "    </tr>\n",
       "    <tr>\n",
       "      <th>37359</th>\n",
       "      <td>2022-02-09</td>\n",
       "      <td>LIFZF</td>\n",
       "      <td>Non-Energy Minerals</td>\n",
       "      <td>0.695644</td>\n",
       "      <td>2022</td>\n",
       "      <td>02</td>\n",
       "      <td>09</td>\n",
       "    </tr>\n",
       "  </tbody>\n",
       "</table>\n",
       "<p>37295 rows × 7 columns</p>\n",
       "</div>"
      ],
      "text/plain": [
       "            date symbol             econ_branch     score  year month day\n",
       "0     2004-02-11     SU         Energy Minerals  0.953727  2004    02  11\n",
       "1     2004-02-11    GGG  Producer Manufacturing  0.952753  2004    02  11\n",
       "2     2004-02-11    WGR         Energy Minerals  0.947634  2004    02  11\n",
       "3     2004-02-11    CWT               Utilities  0.934181  2004    02  11\n",
       "4     2004-02-11    BLL      Process Industries  0.922862  2004    02  11\n",
       "...          ...    ...                     ...       ...   ...   ...  ..\n",
       "37355 2022-02-09    PEP   Consumer Non-Durables  0.701507  2022    02  09\n",
       "37356 2022-02-09   SSNC     Technology Services  0.701123  2022    02  09\n",
       "37357 2022-02-09    GEF      Process Industries  0.697954  2022    02  09\n",
       "37358 2022-02-09    DPZ       Consumer Services  0.697741  2022    02  09\n",
       "37359 2022-02-09  LIFZF     Non-Energy Minerals  0.695644  2022    02  09\n",
       "\n",
       "[37295 rows x 7 columns]"
      ]
     },
     "execution_count": 33,
     "metadata": {},
     "output_type": "execute_result"
    }
   ],
   "source": [
    "\n",
    "data[\"date\"] = data[\"date\"].apply(pd.to_datetime)\n",
    "data"
   ]
  },
  {
   "cell_type": "code",
   "execution_count": 34,
   "metadata": {},
   "outputs": [
    {
     "data": {
      "image/png": "[encoded data removed]",
      "text/plain": [
       "<Figure size 432x216 with 1 Axes>"
      ]
     },
     "metadata": {
      "needs_background": "light"
     },
     "output_type": "display_data"
    },
    {
     "data": {
      "image/png": "[encoded data removed]",
      "text/plain": [
       "<Figure size 432x216 with 1 Axes>"
      ]
     },
     "metadata": {
      "needs_background": "light"
     },
     "output_type": "display_data"
    },
    {
     "data": {
      "image/png": "[encoded data removed]",
      "text/plain": [
       "<Figure size 432x216 with 1 Axes>"
      ]
     },
     "metadata": {
      "needs_background": "light"
     },
     "output_type": "display_data"
    },
    {
     "data": {
      "image/png": "[encoded data removed]",
      "text/plain": [
       "<Figure size 432x216 with 1 Axes>"
      ]
     },
     "metadata": {
      "needs_background": "light"
     },
     "output_type": "display_data"
    },
    {
     "data": {
      "image/png": "[encoded data removed]",
      "text/plain": [
       "<Figure size 432x216 with 1 Axes>"
      ]
     },
     "metadata": {
      "needs_background": "light"
     },
     "output_type": "display_data"
    }
   ],
   "source": [
    "plt.rcParams[\"figure.figsize\"] = (6,3)\n",
    "for company in random_companies:\n",
    "    cmpny_data = data[data[\"symbol\"]==company]\n",
    "    plt.scatter(cmpny_data[\"date\"], cmpny_data[\"score\"])\n",
    "    plt.plot(cmpny_data[\"date\"], cmpny_data[\"score\"])\n",
    "    plt.title(company)\n",
    "    plt.show()"
   ]
  },
  {
   "cell_type": "code",
   "execution_count": 35,
   "metadata": {},
   "outputs": [
    {
     "data": {
      "image/png": "[encoded data removed]",
      "text/plain": [
       "<Figure size 432x216 with 1 Axes>"
      ]
     },
     "metadata": {
      "needs_background": "light"
     },
     "output_type": "display_data"
    },
    {
     "data": {
      "image/png": "[encoded data removed]",
      "text/plain": [
       "<Figure size 432x216 with 1 Axes>"
      ]
     },
     "metadata": {
      "needs_background": "light"
     },
     "output_type": "display_data"
    },
    {
     "data": {
      "image/png": "[encoded data removed]",
      "text/plain": [
       "<Figure size 432x216 with 1 Axes>"
      ]
     },
     "metadata": {
      "needs_background": "light"
     },
     "output_type": "display_data"
    },
    {
     "data": {
      "image/png": "[encoded data removed]",
      "text/plain": [
       "<Figure size 432x216 with 1 Axes>"
      ]
     },
     "metadata": {
      "needs_background": "light"
     },
     "output_type": "display_data"
    },
    {
     "data": {
      "image/png": "[encoded data removed]",
      "text/plain": [
       "<Figure size 432x216 with 1 Axes>"
      ]
     },
     "metadata": {
      "needs_background": "light"
     },
     "output_type": "display_data"
    }
   ],
   "source": [
    "for company in best_companies:\n",
    "    cmpny_data = data[data[\"symbol\"]==company]\n",
    "    plt.scatter(cmpny_data[\"date\"], cmpny_data[\"score\"])\n",
    "    plt.plot(cmpny_data[\"date\"], cmpny_data[\"score\"])\n",
    "    plt.title(company)\n",
    "    plt.show()"
   ]
  },
  {
   "cell_type": "code",
   "execution_count": 36,
   "metadata": {},
   "outputs": [
    {
     "data": {
      "image/png": "[encoded data removed]",
      "text/plain": [
       "<Figure size 432x216 with 1 Axes>"
      ]
     },
     "metadata": {
      "needs_background": "light"
     },
     "output_type": "display_data"
    },
    {
     "data": {
      "image/png": "[encoded data removed]",
      "text/plain": [
       "<Figure size 432x216 with 1 Axes>"
      ]
     },
     "metadata": {
      "needs_background": "light"
     },
     "output_type": "display_data"
    },
    {
     "data": {
      "image/png": "[encoded data removed]",
      "text/plain": [
       "<Figure size 432x216 with 1 Axes>"
      ]
     },
     "metadata": {
      "needs_background": "light"
     },
     "output_type": "display_data"
    },
    {
     "data": {
      "image/png": "[encoded data removed]",
      "text/plain": [
       "<Figure size 432x216 with 1 Axes>"
      ]
     },
     "metadata": {
      "needs_background": "light"
     },
     "output_type": "display_data"
    },
    {
     "data": {
      "image/png": "[encoded data removed]",
      "text/plain": [
       "<Figure size 432x216 with 1 Axes>"
      ]
     },
     "metadata": {
      "needs_background": "light"
     },
     "output_type": "display_data"
    }
   ],
   "source": [
    "for company in worst_companies:\n",
    "    cmpny_data = data[data[\"symbol\"]==company]\n",
    "    plt.scatter(cmpny_data[\"date\"], cmpny_data[\"score\"])\n",
    "    plt.plot(cmpny_data[\"date\"], cmpny_data[\"score\"])\n",
    "    plt.title(company)\n",
    "    plt.show()"
   ]
  },
  {
   "cell_type": "markdown",
   "metadata": {},
   "source": [
    "The \"worst\" performing are just single data points. Let's remove <2 item companies. "
   ]
  },
  {
   "cell_type": "code",
   "execution_count": 37,
   "metadata": {},
   "outputs": [
    {
     "data": {
      "text/plain": [
       "2      110\n",
       "3      100\n",
       "4      102\n",
       "5       76\n",
       "6       75\n",
       "      ... \n",
       "117      1\n",
       "119      2\n",
       "122      1\n",
       "138      1\n",
       "170      1\n",
       "Name: score, Length: 104, dtype: int64"
      ]
     },
     "execution_count": 37,
     "metadata": {},
     "output_type": "execute_result"
    }
   ],
   "source": [
    "observations_per_company = data.groupby(\"symbol\").count()[\"score\"].sort_values()\n",
    "observations_per_company = observations_per_company[observations_per_company>1]\n",
    "data_horizons = observations_per_company.value_counts().sort_index()\n",
    "data_horizons"
   ]
  },
  {
   "cell_type": "code",
   "execution_count": 38,
   "metadata": {},
   "outputs": [
    {
     "name": "stdout",
     "output_type": "stream",
     "text": [
      "37295\n",
      "37214\n",
      "Difference after removal:  -81\n"
     ]
    }
   ],
   "source": [
    "init_data_count = len(data)\n",
    "print(init_data_count)\n",
    "data = data[data[\"symbol\"].isin(observations_per_company.index)]\n",
    "print(len(data))\n",
    "print(\"Difference after removal: \", len(data)-init_data_count)\n"
   ]
  },
  {
   "cell_type": "markdown",
   "metadata": {},
   "source": [
    "Removed only 81 observations, which would have been useless anyway due to the data being a time series"
   ]
  },
  {
   "cell_type": "markdown",
   "metadata": {},
   "source": [
    "How many companies have good enough data for a monthly, quarterly, semi-annual and annual investment horizons? "
   ]
  },
  {
   "cell_type": "code",
   "execution_count": 39,
   "metadata": {},
   "outputs": [
    {
     "data": {
      "text/plain": [
       "2       True\n",
       "3       True\n",
       "4       True\n",
       "5       True\n",
       "6       True\n",
       "       ...  \n",
       "117    False\n",
       "119     True\n",
       "122    False\n",
       "138    False\n",
       "170    False\n",
       "Name: score, Length: 104, dtype: bool"
      ]
     },
     "execution_count": 39,
     "metadata": {},
     "output_type": "execute_result"
    }
   ],
   "source": [
    "data_horizons>=2"
   ]
  },
  {
   "cell_type": "code",
   "execution_count": 40,
   "metadata": {},
   "outputs": [
    {
     "name": "stdout",
     "output_type": "stream",
     "text": [
      "monthly:  1729\n",
      "quarterly:  1640\n",
      "semi-annually:  1460\n",
      "annualy:  1213\n"
     ]
    }
   ],
   "source": [
    "print(\"monthly: \", sum(data_horizons[data_horizons>=2]))\n",
    "print(\"quarterly: \", sum(data_horizons[data_horizons>=6]))\n",
    "print(\"semi-annually: \", sum(data_horizons[data_horizons>=13]))\n",
    "print(\"annualy: \", sum(data_horizons[data_horizons>=26]))"
   ]
  },
  {
   "cell_type": "markdown",
   "metadata": {},
   "source": [
    "There is some long-term data in the dataset. Should be enough to justify trying to make some predictions even a year ahead."
   ]
  },
  {
   "cell_type": "markdown",
   "metadata": {},
   "source": [
    "# Joining with prices data"
   ]
  },
  {
   "cell_type": "markdown",
   "metadata": {},
   "source": [
    "First we'll need the index of companies, their stock symbols and dates"
   ]
  },
  {
   "cell_type": "code",
   "execution_count": 48,
   "metadata": {},
   "outputs": [
    {
     "data": {
      "text/html": [
       "<div>\n",
       "<style scoped>\n",
       "    .dataframe tbody tr th:only-of-type {\n",
       "        vertical-align: middle;\n",
       "    }\n",
       "\n",
       "    .dataframe tbody tr th {\n",
       "        vertical-align: top;\n",
       "    }\n",
       "\n",
       "    .dataframe thead th {\n",
       "        text-align: right;\n",
       "    }\n",
       "</style>\n",
       "<table border=\"1\" class=\"dataframe\">\n",
       "  <thead>\n",
       "    <tr style=\"text-align: right;\">\n",
       "      <th></th>\n",
       "      <th>date</th>\n",
       "      <th>symbol</th>\n",
       "      <th>econ_branch</th>\n",
       "      <th>score</th>\n",
       "      <th>year</th>\n",
       "      <th>month</th>\n",
       "      <th>day</th>\n",
       "    </tr>\n",
       "  </thead>\n",
       "  <tbody>\n",
       "    <tr>\n",
       "      <th>0</th>\n",
       "      <td>2004-02-11</td>\n",
       "      <td>SU</td>\n",
       "      <td>Energy Minerals</td>\n",
       "      <td>0.953727</td>\n",
       "      <td>2004</td>\n",
       "      <td>02</td>\n",
       "      <td>11</td>\n",
       "    </tr>\n",
       "    <tr>\n",
       "      <th>1</th>\n",
       "      <td>2004-02-11</td>\n",
       "      <td>GGG</td>\n",
       "      <td>Producer Manufacturing</td>\n",
       "      <td>0.952753</td>\n",
       "      <td>2004</td>\n",
       "      <td>02</td>\n",
       "      <td>11</td>\n",
       "    </tr>\n",
       "    <tr>\n",
       "      <th>2</th>\n",
       "      <td>2004-02-11</td>\n",
       "      <td>WGR</td>\n",
       "      <td>Energy Minerals</td>\n",
       "      <td>0.947634</td>\n",
       "      <td>2004</td>\n",
       "      <td>02</td>\n",
       "      <td>11</td>\n",
       "    </tr>\n",
       "    <tr>\n",
       "      <th>3</th>\n",
       "      <td>2004-02-11</td>\n",
       "      <td>CWT</td>\n",
       "      <td>Utilities</td>\n",
       "      <td>0.934181</td>\n",
       "      <td>2004</td>\n",
       "      <td>02</td>\n",
       "      <td>11</td>\n",
       "    </tr>\n",
       "    <tr>\n",
       "      <th>4</th>\n",
       "      <td>2004-02-11</td>\n",
       "      <td>BLL</td>\n",
       "      <td>Process Industries</td>\n",
       "      <td>0.922862</td>\n",
       "      <td>2004</td>\n",
       "      <td>02</td>\n",
       "      <td>11</td>\n",
       "    </tr>\n",
       "    <tr>\n",
       "      <th>...</th>\n",
       "      <td>...</td>\n",
       "      <td>...</td>\n",
       "      <td>...</td>\n",
       "      <td>...</td>\n",
       "      <td>...</td>\n",
       "      <td>...</td>\n",
       "      <td>...</td>\n",
       "    </tr>\n",
       "    <tr>\n",
       "      <th>37355</th>\n",
       "      <td>2022-02-09</td>\n",
       "      <td>PEP</td>\n",
       "      <td>Consumer Non-Durables</td>\n",
       "      <td>0.701507</td>\n",
       "      <td>2022</td>\n",
       "      <td>02</td>\n",
       "      <td>09</td>\n",
       "    </tr>\n",
       "    <tr>\n",
       "      <th>37356</th>\n",
       "      <td>2022-02-09</td>\n",
       "      <td>SSNC</td>\n",
       "      <td>Technology Services</td>\n",
       "      <td>0.701123</td>\n",
       "      <td>2022</td>\n",
       "      <td>02</td>\n",
       "      <td>09</td>\n",
       "    </tr>\n",
       "    <tr>\n",
       "      <th>37357</th>\n",
       "      <td>2022-02-09</td>\n",
       "      <td>GEF</td>\n",
       "      <td>Process Industries</td>\n",
       "      <td>0.697954</td>\n",
       "      <td>2022</td>\n",
       "      <td>02</td>\n",
       "      <td>09</td>\n",
       "    </tr>\n",
       "    <tr>\n",
       "      <th>37358</th>\n",
       "      <td>2022-02-09</td>\n",
       "      <td>DPZ</td>\n",
       "      <td>Consumer Services</td>\n",
       "      <td>0.697741</td>\n",
       "      <td>2022</td>\n",
       "      <td>02</td>\n",
       "      <td>09</td>\n",
       "    </tr>\n",
       "    <tr>\n",
       "      <th>37359</th>\n",
       "      <td>2022-02-09</td>\n",
       "      <td>LIFZF</td>\n",
       "      <td>Non-Energy Minerals</td>\n",
       "      <td>0.695644</td>\n",
       "      <td>2022</td>\n",
       "      <td>02</td>\n",
       "      <td>09</td>\n",
       "    </tr>\n",
       "  </tbody>\n",
       "</table>\n",
       "<p>37214 rows × 7 columns</p>\n",
       "</div>"
      ],
      "text/plain": [
       "            date symbol             econ_branch     score  year month day\n",
       "0     2004-02-11     SU         Energy Minerals  0.953727  2004    02  11\n",
       "1     2004-02-11    GGG  Producer Manufacturing  0.952753  2004    02  11\n",
       "2     2004-02-11    WGR         Energy Minerals  0.947634  2004    02  11\n",
       "3     2004-02-11    CWT               Utilities  0.934181  2004    02  11\n",
       "4     2004-02-11    BLL      Process Industries  0.922862  2004    02  11\n",
       "...          ...    ...                     ...       ...   ...   ...  ..\n",
       "37355 2022-02-09    PEP   Consumer Non-Durables  0.701507  2022    02  09\n",
       "37356 2022-02-09   SSNC     Technology Services  0.701123  2022    02  09\n",
       "37357 2022-02-09    GEF      Process Industries  0.697954  2022    02  09\n",
       "37358 2022-02-09    DPZ       Consumer Services  0.697741  2022    02  09\n",
       "37359 2022-02-09  LIFZF     Non-Energy Minerals  0.695644  2022    02  09\n",
       "\n",
       "[37214 rows x 7 columns]"
      ]
     },
     "execution_count": 48,
     "metadata": {},
     "output_type": "execute_result"
    }
   ],
   "source": [
    "data"
   ]
  },
  {
   "cell_type": "code",
   "execution_count": 69,
   "metadata": {},
   "outputs": [
    {
     "data": {
      "text/html": [
       "<div>\n",
       "<style scoped>\n",
       "    .dataframe tbody tr th:only-of-type {\n",
       "        vertical-align: middle;\n",
       "    }\n",
       "\n",
       "    .dataframe tbody tr th {\n",
       "        vertical-align: top;\n",
       "    }\n",
       "\n",
       "    .dataframe thead th {\n",
       "        text-align: right;\n",
       "    }\n",
       "</style>\n",
       "<table border=\"1\" class=\"dataframe\">\n",
       "  <thead>\n",
       "    <tr style=\"text-align: right;\">\n",
       "      <th></th>\n",
       "      <th>start_date</th>\n",
       "      <th>end_date</th>\n",
       "    </tr>\n",
       "    <tr>\n",
       "      <th>symbol</th>\n",
       "      <th></th>\n",
       "      <th></th>\n",
       "    </tr>\n",
       "  </thead>\n",
       "  <tbody>\n",
       "    <tr>\n",
       "      <th>SU</th>\n",
       "      <td>2004-02-11</td>\n",
       "      <td>2019-12-19</td>\n",
       "    </tr>\n",
       "    <tr>\n",
       "      <th>GGG</th>\n",
       "      <td>2004-02-11</td>\n",
       "      <td>2020-03-27</td>\n",
       "    </tr>\n",
       "    <tr>\n",
       "      <th>WGR</th>\n",
       "      <td>2004-02-11</td>\n",
       "      <td>2005-11-03</td>\n",
       "    </tr>\n",
       "    <tr>\n",
       "      <th>CWT</th>\n",
       "      <td>2004-02-11</td>\n",
       "      <td>2018-12-27</td>\n",
       "    </tr>\n",
       "    <tr>\n",
       "      <th>BLL</th>\n",
       "      <td>2004-02-11</td>\n",
       "      <td>2021-02-26</td>\n",
       "    </tr>\n",
       "    <tr>\n",
       "      <th>...</th>\n",
       "      <td>...</td>\n",
       "      <td>...</td>\n",
       "    </tr>\n",
       "    <tr>\n",
       "      <th>DOOR</th>\n",
       "      <td>2021-10-20</td>\n",
       "      <td>2023-02-09</td>\n",
       "    </tr>\n",
       "    <tr>\n",
       "      <th>FRG</th>\n",
       "      <td>2021-11-03</td>\n",
       "      <td>2023-02-09</td>\n",
       "    </tr>\n",
       "    <tr>\n",
       "      <th>PPRQF</th>\n",
       "      <td>2021-11-03</td>\n",
       "      <td>2023-02-09</td>\n",
       "    </tr>\n",
       "    <tr>\n",
       "      <th>MU</th>\n",
       "      <td>2021-11-17</td>\n",
       "      <td>2022-12-15</td>\n",
       "    </tr>\n",
       "    <tr>\n",
       "      <th>DELL</th>\n",
       "      <td>2021-12-15</td>\n",
       "      <td>2023-02-09</td>\n",
       "    </tr>\n",
       "  </tbody>\n",
       "</table>\n",
       "<p>1747 rows × 2 columns</p>\n",
       "</div>"
      ],
      "text/plain": [
       "       start_date   end_date\n",
       "symbol                      \n",
       "SU     2004-02-11 2019-12-19\n",
       "GGG    2004-02-11 2020-03-27\n",
       "WGR    2004-02-11 2005-11-03\n",
       "CWT    2004-02-11 2018-12-27\n",
       "BLL    2004-02-11 2021-02-26\n",
       "...           ...        ...\n",
       "DOOR   2021-10-20 2023-02-09\n",
       "FRG    2021-11-03 2023-02-09\n",
       "PPRQF  2021-11-03 2023-02-09\n",
       "MU     2021-11-17 2022-12-15\n",
       "DELL   2021-12-15 2023-02-09\n",
       "\n",
       "[1747 rows x 2 columns]"
      ]
     },
     "execution_count": 69,
     "metadata": {},
     "output_type": "execute_result"
    }
   ],
   "source": [
    "stock_index = pd.DataFrame(data[\"symbol\"].unique(), columns=[\"symbol\"])\n",
    "stock_index = stock_index.set_index(\"symbol\")\n",
    "stock_index[\"start_date\"] = data.groupby(\"symbol\").agg({\"date\": np.min})\n",
    "stock_index[\"end_date\"] = data.groupby(\"symbol\")[\"date\"].max()+pd.offsets.DateOffset(years=1)\n",
    "stock_index"
   ]
  },
  {
   "cell_type": "code",
   "execution_count": 70,
   "metadata": {},
   "outputs": [
    {
     "data": {
      "text/plain": [
       "2      2004-02-11\n",
       "81     2004-02-25\n",
       "161    2004-03-10\n",
       "241    2004-03-24\n",
       "1599   2004-11-03\n",
       "Name: date, dtype: datetime64[ns]"
      ]
     },
     "execution_count": 70,
     "metadata": {},
     "output_type": "execute_result"
    }
   ],
   "source": [
    "data[data[\"symbol\"]==\"WGR\"][\"date\"]"
   ]
  },
  {
   "cell_type": "code",
   "execution_count": 81,
   "metadata": {},
   "outputs": [
    {
     "data": {
      "text/html": [
       "<div>\n",
       "<style scoped>\n",
       "    .dataframe tbody tr th:only-of-type {\n",
       "        vertical-align: middle;\n",
       "    }\n",
       "\n",
       "    .dataframe tbody tr th {\n",
       "        vertical-align: top;\n",
       "    }\n",
       "\n",
       "    .dataframe thead th {\n",
       "        text-align: right;\n",
       "    }\n",
       "</style>\n",
       "<table border=\"1\" class=\"dataframe\">\n",
       "  <thead>\n",
       "    <tr style=\"text-align: right;\">\n",
       "      <th></th>\n",
       "      <th>Close</th>\n",
       "    </tr>\n",
       "    <tr>\n",
       "      <th>Date</th>\n",
       "      <th></th>\n",
       "    </tr>\n",
       "  </thead>\n",
       "  <tbody>\n",
       "    <tr>\n",
       "      <th>2004-02-10</th>\n",
       "      <td>14.650000</td>\n",
       "    </tr>\n",
       "    <tr>\n",
       "      <th>2004-02-11</th>\n",
       "      <td>14.720000</td>\n",
       "    </tr>\n",
       "    <tr>\n",
       "      <th>2004-02-12</th>\n",
       "      <td>14.700000</td>\n",
       "    </tr>\n",
       "    <tr>\n",
       "      <th>2004-02-13</th>\n",
       "      <td>14.245000</td>\n",
       "    </tr>\n",
       "    <tr>\n",
       "      <th>2004-02-17</th>\n",
       "      <td>14.730000</td>\n",
       "    </tr>\n",
       "    <tr>\n",
       "      <th>...</th>\n",
       "      <td>...</td>\n",
       "    </tr>\n",
       "    <tr>\n",
       "      <th>2018-12-19</th>\n",
       "      <td>47.009998</td>\n",
       "    </tr>\n",
       "    <tr>\n",
       "      <th>2018-12-20</th>\n",
       "      <td>47.560001</td>\n",
       "    </tr>\n",
       "    <tr>\n",
       "      <th>2018-12-21</th>\n",
       "      <td>46.860001</td>\n",
       "    </tr>\n",
       "    <tr>\n",
       "      <th>2018-12-24</th>\n",
       "      <td>44.529999</td>\n",
       "    </tr>\n",
       "    <tr>\n",
       "      <th>2018-12-26</th>\n",
       "      <td>46.029999</td>\n",
       "    </tr>\n",
       "  </tbody>\n",
       "</table>\n",
       "<p>3746 rows × 1 columns</p>\n",
       "</div>"
      ],
      "text/plain": [
       "                Close\n",
       "Date                 \n",
       "2004-02-10  14.650000\n",
       "2004-02-11  14.720000\n",
       "2004-02-12  14.700000\n",
       "2004-02-13  14.245000\n",
       "2004-02-17  14.730000\n",
       "...               ...\n",
       "2018-12-19  47.009998\n",
       "2018-12-20  47.560001\n",
       "2018-12-21  46.860001\n",
       "2018-12-24  44.529999\n",
       "2018-12-26  46.029999\n",
       "\n",
       "[3746 rows x 1 columns]"
      ]
     },
     "execution_count": 81,
     "metadata": {},
     "output_type": "execute_result"
    }
   ],
   "source": [
    "tryout_stock_data = yf.download('CWT', \n",
    "                                start='2004-02-11', \n",
    "                                end='2018-12-27', \n",
    "                                progress=False,\n",
    ")\n",
    "tryout_stock_data[[\"Close\"]]"
   ]
  },
  {
   "cell_type": "code",
   "execution_count": 104,
   "metadata": {},
   "outputs": [
    {
     "data": {
      "text/html": [
       "<div>\n",
       "<style scoped>\n",
       "    .dataframe tbody tr th:only-of-type {\n",
       "        vertical-align: middle;\n",
       "    }\n",
       "\n",
       "    .dataframe tbody tr th {\n",
       "        vertical-align: top;\n",
       "    }\n",
       "\n",
       "    .dataframe thead th {\n",
       "        text-align: right;\n",
       "    }\n",
       "</style>\n",
       "<table border=\"1\" class=\"dataframe\">\n",
       "  <thead>\n",
       "    <tr style=\"text-align: right;\">\n",
       "      <th></th>\n",
       "      <th>date</th>\n",
       "      <th>symbol</th>\n",
       "      <th>econ_branch</th>\n",
       "      <th>score</th>\n",
       "      <th>year</th>\n",
       "      <th>month</th>\n",
       "      <th>day</th>\n",
       "      <th>date+month</th>\n",
       "      <th>date+quarter</th>\n",
       "      <th>date+halfyear</th>\n",
       "      <th>date+year</th>\n",
       "    </tr>\n",
       "  </thead>\n",
       "  <tbody>\n",
       "    <tr>\n",
       "      <th>0</th>\n",
       "      <td>2004-02-11</td>\n",
       "      <td>SU</td>\n",
       "      <td>Energy Minerals</td>\n",
       "      <td>0.953727</td>\n",
       "      <td>2004</td>\n",
       "      <td>02</td>\n",
       "      <td>11</td>\n",
       "      <td>2004-03-11</td>\n",
       "      <td>2004-05-11</td>\n",
       "      <td>2004-08-11</td>\n",
       "      <td>2005-02-11</td>\n",
       "    </tr>\n",
       "    <tr>\n",
       "      <th>1</th>\n",
       "      <td>2004-02-11</td>\n",
       "      <td>GGG</td>\n",
       "      <td>Producer Manufacturing</td>\n",
       "      <td>0.952753</td>\n",
       "      <td>2004</td>\n",
       "      <td>02</td>\n",
       "      <td>11</td>\n",
       "      <td>2004-03-11</td>\n",
       "      <td>2004-05-11</td>\n",
       "      <td>2004-08-11</td>\n",
       "      <td>2005-02-11</td>\n",
       "    </tr>\n",
       "    <tr>\n",
       "      <th>2</th>\n",
       "      <td>2004-02-11</td>\n",
       "      <td>WGR</td>\n",
       "      <td>Energy Minerals</td>\n",
       "      <td>0.947634</td>\n",
       "      <td>2004</td>\n",
       "      <td>02</td>\n",
       "      <td>11</td>\n",
       "      <td>2004-03-11</td>\n",
       "      <td>2004-05-11</td>\n",
       "      <td>2004-08-11</td>\n",
       "      <td>2005-02-11</td>\n",
       "    </tr>\n",
       "    <tr>\n",
       "      <th>3</th>\n",
       "      <td>2004-02-11</td>\n",
       "      <td>CWT</td>\n",
       "      <td>Utilities</td>\n",
       "      <td>0.934181</td>\n",
       "      <td>2004</td>\n",
       "      <td>02</td>\n",
       "      <td>11</td>\n",
       "      <td>2004-03-11</td>\n",
       "      <td>2004-05-11</td>\n",
       "      <td>2004-08-11</td>\n",
       "      <td>2005-02-11</td>\n",
       "    </tr>\n",
       "    <tr>\n",
       "      <th>4</th>\n",
       "      <td>2004-02-11</td>\n",
       "      <td>BLL</td>\n",
       "      <td>Process Industries</td>\n",
       "      <td>0.922862</td>\n",
       "      <td>2004</td>\n",
       "      <td>02</td>\n",
       "      <td>11</td>\n",
       "      <td>2004-03-11</td>\n",
       "      <td>2004-05-11</td>\n",
       "      <td>2004-08-11</td>\n",
       "      <td>2005-02-11</td>\n",
       "    </tr>\n",
       "    <tr>\n",
       "      <th>...</th>\n",
       "      <td>...</td>\n",
       "      <td>...</td>\n",
       "      <td>...</td>\n",
       "      <td>...</td>\n",
       "      <td>...</td>\n",
       "      <td>...</td>\n",
       "      <td>...</td>\n",
       "      <td>...</td>\n",
       "      <td>...</td>\n",
       "      <td>...</td>\n",
       "      <td>...</td>\n",
       "    </tr>\n",
       "    <tr>\n",
       "      <th>37355</th>\n",
       "      <td>2022-02-09</td>\n",
       "      <td>PEP</td>\n",
       "      <td>Consumer Non-Durables</td>\n",
       "      <td>0.701507</td>\n",
       "      <td>2022</td>\n",
       "      <td>02</td>\n",
       "      <td>09</td>\n",
       "      <td>2022-03-09</td>\n",
       "      <td>2022-05-09</td>\n",
       "      <td>2022-08-09</td>\n",
       "      <td>2023-02-09</td>\n",
       "    </tr>\n",
       "    <tr>\n",
       "      <th>37356</th>\n",
       "      <td>2022-02-09</td>\n",
       "      <td>SSNC</td>\n",
       "      <td>Technology Services</td>\n",
       "      <td>0.701123</td>\n",
       "      <td>2022</td>\n",
       "      <td>02</td>\n",
       "      <td>09</td>\n",
       "      <td>2022-03-09</td>\n",
       "      <td>2022-05-09</td>\n",
       "      <td>2022-08-09</td>\n",
       "      <td>2023-02-09</td>\n",
       "    </tr>\n",
       "    <tr>\n",
       "      <th>37357</th>\n",
       "      <td>2022-02-09</td>\n",
       "      <td>GEF</td>\n",
       "      <td>Process Industries</td>\n",
       "      <td>0.697954</td>\n",
       "      <td>2022</td>\n",
       "      <td>02</td>\n",
       "      <td>09</td>\n",
       "      <td>2022-03-09</td>\n",
       "      <td>2022-05-09</td>\n",
       "      <td>2022-08-09</td>\n",
       "      <td>2023-02-09</td>\n",
       "    </tr>\n",
       "    <tr>\n",
       "      <th>37358</th>\n",
       "      <td>2022-02-09</td>\n",
       "      <td>DPZ</td>\n",
       "      <td>Consumer Services</td>\n",
       "      <td>0.697741</td>\n",
       "      <td>2022</td>\n",
       "      <td>02</td>\n",
       "      <td>09</td>\n",
       "      <td>2022-03-09</td>\n",
       "      <td>2022-05-09</td>\n",
       "      <td>2022-08-09</td>\n",
       "      <td>2023-02-09</td>\n",
       "    </tr>\n",
       "    <tr>\n",
       "      <th>37359</th>\n",
       "      <td>2022-02-09</td>\n",
       "      <td>LIFZF</td>\n",
       "      <td>Non-Energy Minerals</td>\n",
       "      <td>0.695644</td>\n",
       "      <td>2022</td>\n",
       "      <td>02</td>\n",
       "      <td>09</td>\n",
       "      <td>2022-03-09</td>\n",
       "      <td>2022-05-09</td>\n",
       "      <td>2022-08-09</td>\n",
       "      <td>2023-02-09</td>\n",
       "    </tr>\n",
       "  </tbody>\n",
       "</table>\n",
       "<p>37214 rows × 11 columns</p>\n",
       "</div>"
      ],
      "text/plain": [
       "            date symbol             econ_branch     score  year month day  \\\n",
       "0     2004-02-11     SU         Energy Minerals  0.953727  2004    02  11   \n",
       "1     2004-02-11    GGG  Producer Manufacturing  0.952753  2004    02  11   \n",
       "2     2004-02-11    WGR         Energy Minerals  0.947634  2004    02  11   \n",
       "3     2004-02-11    CWT               Utilities  0.934181  2004    02  11   \n",
       "4     2004-02-11    BLL      Process Industries  0.922862  2004    02  11   \n",
       "...          ...    ...                     ...       ...   ...   ...  ..   \n",
       "37355 2022-02-09    PEP   Consumer Non-Durables  0.701507  2022    02  09   \n",
       "37356 2022-02-09   SSNC     Technology Services  0.701123  2022    02  09   \n",
       "37357 2022-02-09    GEF      Process Industries  0.697954  2022    02  09   \n",
       "37358 2022-02-09    DPZ       Consumer Services  0.697741  2022    02  09   \n",
       "37359 2022-02-09  LIFZF     Non-Energy Minerals  0.695644  2022    02  09   \n",
       "\n",
       "      date+month date+quarter date+halfyear  date+year  \n",
       "0     2004-03-11   2004-05-11    2004-08-11 2005-02-11  \n",
       "1     2004-03-11   2004-05-11    2004-08-11 2005-02-11  \n",
       "2     2004-03-11   2004-05-11    2004-08-11 2005-02-11  \n",
       "3     2004-03-11   2004-05-11    2004-08-11 2005-02-11  \n",
       "4     2004-03-11   2004-05-11    2004-08-11 2005-02-11  \n",
       "...          ...          ...           ...        ...  \n",
       "37355 2022-03-09   2022-05-09    2022-08-09 2023-02-09  \n",
       "37356 2022-03-09   2022-05-09    2022-08-09 2023-02-09  \n",
       "37357 2022-03-09   2022-05-09    2022-08-09 2023-02-09  \n",
       "37358 2022-03-09   2022-05-09    2022-08-09 2023-02-09  \n",
       "37359 2022-03-09   2022-05-09    2022-08-09 2023-02-09  \n",
       "\n",
       "[37214 rows x 11 columns]"
      ]
     },
     "execution_count": 104,
     "metadata": {},
     "output_type": "execute_result"
    }
   ],
   "source": [
    "data.loc[:, \"date+month\"] = data[\"date\"]+pd.offsets.DateOffset(months=1)\n",
    "data.loc[:, \"date+quarter\"] = data[\"date\"]+pd.offsets.DateOffset(months=3)\n",
    "data.loc[:,\"date+halfyear\"] = data[\"date\"]+pd.offsets.DateOffset(months=6)\n",
    "data.loc[:,\"date+year\"] = data[\"date\"]+pd.offsets.DateOffset(years=1)\n",
    "data"
   ]
  },
  {
   "cell_type": "code",
   "execution_count": 106,
   "metadata": {},
   "outputs": [
    {
     "data": {
      "text/plain": [
       "12"
      ]
     },
     "execution_count": 106,
     "metadata": {},
     "output_type": "execute_result"
    }
   ],
   "source": [
    "for index, row in data.iterrows():\n",
    "    print(row['c1'], row['c2'])"
   ]
  },
  {
   "cell_type": "code",
   "execution_count": null,
   "metadata": {},
   "outputs": [],
   "source": []
  }
 ],
 "metadata": {
  "interpreter": {
   "hash": "0e3fc13ab02eafc6234134e6dc632c5e4bed2989689519992210c7ff5ffe8b1d"
  },
  "kernelspec": {
   "display_name": "Python 3.9.0 ('.venv': venv)",
   "language": "python",
   "name": "python3"
  },
  "language_info": {
   "codemirror_mode": {
    "name": "ipython",
    "version": 3
   },
   "file_extension": ".py",
   "mimetype": "text/x-python",
   "name": "python",
   "nbconvert_exporter": "python",
   "pygments_lexer": "ipython3",
   "version": "3.9.0"
  },
  "orig_nbformat": 4
 },
 "nbformat": 4,
 "nbformat_minor": 2
}
